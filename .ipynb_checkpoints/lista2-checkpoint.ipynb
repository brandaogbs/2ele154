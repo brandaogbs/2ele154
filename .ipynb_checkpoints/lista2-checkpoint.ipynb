{
 "cells": [
  {
   "cell_type": "markdown",
   "metadata": {},
   "source": [
    "# **Modelagem, Simulação e Implementação de Sistemas**\n",
    "## **Lista II** - Revisão de Transformada de Laplace\n",
    "### Guilherme Brandão da Silva \n",
    "***"
   ]
  },
  {
   "cell_type": "markdown",
   "metadata": {},
   "source": []
  },
  {
   "cell_type": "code",
   "execution_count": 67,
   "metadata": {},
   "outputs": [],
   "source": [
    "% Módulos para os Cálculos de Laplace e Operações Simbólicas\n",
    "pkg load control\n",
    "pkg load symbolic\n",
    "\n",
    "% Variáveis Simbólicas\n",
    "syms s t x(t)\n",
    "\n",
    "% Function para Plotar a Inversa de Laplace (Simbólica)\n",
    "function plot_ilap(f)\n",
    "    p = ezplot(f);\n",
    "    axis([0 6 0 0.4]);\n",
    "    set(p,'linewidth', 5, 'color', 'k');\n",
    "end;"
   ]
  },
  {
   "cell_type": "markdown",
   "metadata": {},
   "source": [
    "### **Exemplo 1:** Encontre a equação da corrente de malha, para um circuito RLC Série\n",
    "![\"e1.png\"](e1.png)"
   ]
  },
  {
   "cell_type": "markdown",
   "metadata": {},
   "source": [
    "1. Aplicando Kirchoff na malhad do circuito, temos:\n",
    "$$\\frac{1}{C}\\int{i(\\tau) d\\tau} + Ri(t) + L \\frac{di(t)}{dt} = 0$$\n",
    "\n",
    "2. Aplicando a transformada de Laplace na Equação Diferencial\n",
    "$$\\frac{1}{C}\\left(\\frac{I(s)}{s} + \\frac{i(0)}{s} + RI(s)+ L(sI(s) - i(0)\\right) = 0$$\n",
    "\n",
    "3. Reorganizanado a Equação, temos que:\n",
    "$$\\left(\\frac{1}{sC} + R + sL\\right)I(s) = Li(0) - \\frac{i(0)}{sC}$$\n",
    "\n",
    "4. Substituindo os valores:\n",
    "\n",
    "$$\\frac{10}{s} = \\left( 5s + 20 + \\frac{20}{s} \\right)I(s)$$\n",
    "\n",
    "$$I(s) = \\frac{10}{5s^2 + 20s + 20}$$"
   ]
  },
  {
   "cell_type": "code",
   "execution_count": 68,
   "metadata": {},
   "outputs": [
    {
     "name": "stdout",
     "output_type": "stream",
     "text": [
      "i = (sym)\n",
      "\n",
      "       -2⋅s             \n",
      "  2⋅s⋅ℯ    ⋅Heaviside(s)\n",
      "\n"
     ]
    },
    {
     "data": {
      "image/png": "[encoded data removed]",
      "text/plain": [
       "<IPython.core.display.Image object>"
      ]
     },
     "metadata": {},
     "output_type": "display_data"
    }
   ],
   "source": [
    "L = 5;\n",
    "C = 0.05;\n",
    "Vc = 10;\n",
    "R = 10;\n",
    "\n",
    "num = 10;\n",
    "den = [5 20 20];\n",
    "\n",
    "% Cálculo das Franções Parciais\n",
    "[r, p, k] = residue(num, den);\n",
    "\n",
    "% Montagem da Função em Franções Parciais\n",
    "I = 2/(s+2)^2;\n",
    "\n",
    "% Cálculo da Inversa de Laplace\n",
    "i = ilaplace(I, s)\n",
    "\n",
    "% Plotando a Resposta da Corrente no Tempo\n",
    "plot_ilap(i)\n",
    "\n"
   ]
  }
 ],
 "metadata": {
  "kernelspec": {
   "display_name": "Octave",
   "language": "octave",
   "name": "octave"
  },
  "language_info": {
   "file_extension": ".m",
   "help_links": [
    {
     "text": "GNU Octave",
     "url": "https://www.gnu.org/software/octave/support.html"
    },
    {
     "text": "Octave Kernel",
     "url": "https://github.com/Calysto/octave_kernel"
    },
    {
     "text": "MetaKernel Magics",
     "url": "https://github.com/calysto/metakernel/blob/master/metakernel/magics/README.md"
    }
   ],
   "mimetype": "text/x-octave",
   "name": "octave",
   "version": "4.4.1"
  }
 },
 "nbformat": 4,
 "nbformat_minor": 2
}
