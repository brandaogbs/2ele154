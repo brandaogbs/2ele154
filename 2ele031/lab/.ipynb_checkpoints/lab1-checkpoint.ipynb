{
 "cells": [
  {
   "cell_type": "markdown",
   "metadata": {},
   "source": [
    "# Laboratório 01 -- Introdução a Python3"
   ]
  },
  {
   "cell_type": "markdown",
   "metadata": {},
   "source": [
    "-------------------\n",
    "\n",
    "## Interpretador"
   ]
  },
  {
   "cell_type": "code",
   "execution_count": null,
   "metadata": {},
   "outputs": [],
   "source": [
    "print(\"Hello World!!\")"
   ]
  },
  {
   "cell_type": "markdown",
   "metadata": {},
   "source": [
    "### Ordem de execução"
   ]
  },
  {
   "cell_type": "code",
   "execution_count": null,
   "metadata": {},
   "outputs": [],
   "source": [
    "print(\"   *\")\n",
    "print(\"  ***\")\n",
    "print(\" *****\")\n",
    "print(\"*******\")"
   ]
  },
  {
   "cell_type": "code",
   "execution_count": null,
   "metadata": {},
   "outputs": [],
   "source": [
    "print(\" *****\")\n",
    "print(\"   *\")\n",
    "print(\"  ***\")\n",
    "print(\"*******\")"
   ]
  },
  {
   "cell_type": "markdown",
   "metadata": {},
   "source": [
    "### Operações numéricas"
   ]
  },
  {
   "cell_type": "code",
   "execution_count": null,
   "metadata": {},
   "outputs": [],
   "source": [
    "# Soma\n",
    "1300 + 37"
   ]
  },
  {
   "cell_type": "code",
   "execution_count": null,
   "metadata": {},
   "outputs": [],
   "source": [
    "# Multiplicação\n",
    "17*31"
   ]
  },
  {
   "cell_type": "code",
   "execution_count": null,
   "metadata": {},
   "outputs": [],
   "source": [
    "30 ** 2"
   ]
  },
  {
   "cell_type": "markdown",
   "metadata": {},
   "source": [
    "--------------------\n",
    "## Variáveis"
   ]
  },
  {
   "cell_type": "code",
   "execution_count": null,
   "metadata": {},
   "outputs": [],
   "source": [
    "print(\"Olá, meu nome é Betina\")\n",
    "print(\"Tenho 27 anos\")\n",
    "print(\"E mais de 1000000 de reais em patrimônio\")"
   ]
  },
  {
   "cell_type": "code",
   "execution_count": null,
   "metadata": {},
   "outputs": [],
   "source": [
    "nome = 'Guilherme'\n",
    "idade = '24'\n",
    "patrimonio = '163,50'\n",
    "\n",
    "print(\"Olá, meu nome é \" + nome)\n",
    "print(\"Tenho \" + idade + \" anos\")\n",
    "print(\"E mais de \" + patrimonio + \" de reais em patrimônio\" )"
   ]
  },
  {
   "cell_type": "code",
   "execution_count": null,
   "metadata": {},
   "outputs": [],
   "source": []
  },
  {
   "cell_type": "markdown",
   "metadata": {},
   "source": [
    "### Strings"
   ]
  },
  {
   "cell_type": "code",
   "execution_count": null,
   "metadata": {},
   "outputs": [],
   "source": [
    "# Declaração de uma string\n",
    "texto = 'Eu adoro comer no RU'\n",
    "\n",
    "# Exemplo de funções build-in de string\n",
    "print(\"Texto normal: \" + texto)\n",
    "print(\"Texto em maiúsculo: \" + texto.upper())\n",
    "print(\"Outras funções podem ser encontradas na docs: \" + \"https://docs.python.org/3.3/library/string.html\")"
   ]
  },
  {
   "cell_type": "code",
   "execution_count": null,
   "metadata": {},
   "outputs": [],
   "source": [
    "# Mais exemplos de uso de strings\n",
    "print(\"O tamanho do texto é: %d\" % len(texto))\n",
    "\n",
    "print(\"A primeira letra do texto é: %s\" % texto[0])\n",
    "\n",
    "print(\"A última letra do texto é: %s\" % texto[-1])\n",
    "\n",
    "print(\"Os primeiros oito caracteres são: %s\" % texto[0:8])\n",
    "\n",
    "print(\"A posição do 'c' é: %d\" % texto.index('c'))\n",
    "\n",
    "print(\"Trocando sub-strings: %s\" % texto.replace(\"RU\", \"Matsuri\"))"
   ]
  },
  {
   "cell_type": "markdown",
   "metadata": {},
   "source": [
    "### Números"
   ]
  },
  {
   "cell_type": "code",
   "execution_count": null,
   "metadata": {},
   "outputs": [],
   "source": [
    "x = 13\n",
    "y = 37\n",
    "z = -1337\n",
    "pi = 3.1415\n",
    "\n",
    "print(\"Soma: %d, Mult: %d, Resto: %d e etc\" % (x+y, x*y, y%x))\n",
    "\n",
    "print(\"Mod: %d, Pot: %d, Max: %d, Arred: %d\" % (abs(z), pow(pi, x), max(y, z), round(pi)))"
   ]
  },
  {
   "cell_type": "code",
   "execution_count": null,
   "metadata": {},
   "outputs": [],
   "source": [
    "import math\n",
    "\n",
    "print(\"Raiz: %d, Ceil: %d, Floor: %d\" % (math.sqrt(x), math.ceil(pi), math.floor(pi)))"
   ]
  },
  {
   "cell_type": "markdown",
   "metadata": {},
   "source": [
    "## Entrada de dados"
   ]
  },
  {
   "cell_type": "code",
   "execution_count": null,
   "metadata": {},
   "outputs": [],
   "source": [
    "nome = input(\"Digite seu nome\")\n",
    "print(\"Olá, meu nome é \" + nome)"
   ]
  },
  {
   "cell_type": "code",
   "execution_count": null,
   "metadata": {},
   "outputs": [],
   "source": [
    "n1 = input(\"Informe um número: \")\n",
    "n2 = input(\"Informe outro número: \")\n",
    "\n",
    "soma = n1 + n2\n",
    "\n",
    "print(\"A soma é %s\" % soma)"
   ]
  },
  {
   "cell_type": "markdown",
   "metadata": {},
   "source": [
    "## Listas"
   ]
  },
  {
   "cell_type": "code",
   "execution_count": null,
   "metadata": {},
   "outputs": [],
   "source": [
    "lista_items = ['Café', 'Arroz', 'Feijão', 'Sabonete']\n",
    "\n",
    "print(\"Minha lista de compras: %s\" % lista_items)\n",
    "\n",
    "print(\"Primeiro item da lista: %s\" % lista_items[0])\n",
    "\n",
    "print(\"Ultimo item da lista: %s\" % lista_items[-1])\n",
    "\n",
    "lista_items.append('Fita 3M')\n",
    "\n",
    "print(\"Ultimo item da lista Atualizada: %s\" % lista_items[-1])\n",
    "\n",
    "lista_items.insert(2, 'Café')\n",
    "\n",
    "print(\"Minha lista de compras Atualizada: %s\" % lista_items)\n",
    "\n",
    "lista_items.remove('Sabonete')\n",
    "\n",
    "print(\"Minha lista de compras Atualizada: %s\" % lista_items)\n",
    "\n",
    "print(\"Quantos 'Café's tem na lista? %s\" % lista_items.count('Café'))\n"
   ]
  },
  {
   "cell_type": "code",
   "execution_count": null,
   "metadata": {},
   "outputs": [],
   "source": [
    "lista_prioridades = [10, 1, -1, 2, 5, 137, -1337, 4]\n",
    "\n",
    "print(\"Lista de prioridade: %s\" % lista_prioridades)\n",
    "\n",
    "lista_prioridades.sort()\n",
    "\n",
    "print(\"Lista de prioridade ordenadas: %s\" % lista_prioridades)\n",
    "\n",
    "lista_prioridades.reverse()\n",
    "\n",
    "print(\"Lista de prioridade reversa: %s\" % lista_prioridades)\n",
    "\n"
   ]
  },
  {
   "cell_type": "markdown",
   "metadata": {},
   "source": [
    "## Funções"
   ]
  },
  {
   "cell_type": "code",
   "execution_count": null,
   "metadata": {},
   "outputs": [],
   "source": [
    "# Definição de uma função\n",
    "def hello_world():\n",
    "    print(\">>> Hello World!\")\n",
    "    \n",
    "    \n",
    "print(\"Lembre-se\")\n",
    "hello_world()\n",
    "print(\"da ordem!\")"
   ]
  },
  {
   "cell_type": "markdown",
   "metadata": {},
   "source": [
    "### Argumentos"
   ]
  },
  {
   "cell_type": "code",
   "execution_count": null,
   "metadata": {},
   "outputs": [],
   "source": [
    "def calc_media(lista_notas):\n",
    "    media = lista_notas[0] + lista_notas[1]\n",
    "    media /= 2\n",
    "    print(\"A Média é: %d\" % media)\n",
    "    \n",
    "    \n",
    "notas = [60, 59]\n",
    "calc_media(notas)"
   ]
  },
  {
   "cell_type": "markdown",
   "metadata": {},
   "source": [
    "### Retorno"
   ]
  },
  {
   "cell_type": "code",
   "execution_count": null,
   "metadata": {},
   "outputs": [],
   "source": [
    "def calc_cubo(x):\n",
    "    cubo = x*x*x\n",
    "    return cubo\n",
    "    print(\"Depois do return nao executa mais\")\n",
    "\n",
    "print(\"O cubo de 3 é: %d\" % calc_cubo(3))\n",
    "print(\"O cubo do cubo do cubo de 3 é: %d\" % calc_cubo(calc_cubo(calc_cubo(3))))\n"
   ]
  },
  {
   "cell_type": "markdown",
   "metadata": {},
   "source": [
    "## Condicionais"
   ]
  },
  {
   "cell_type": "code",
   "execution_count": null,
   "metadata": {},
   "outputs": [],
   "source": [
    "lote = input(\"Informe o lote: \")\n",
    "\n",
    "def calc_preco_cervejada(lote, preco_promocional):   \n",
    "    \n",
    "    if lote == '1':\n",
    "        return preco_promocional + 5\n",
    "    \n",
    "    elif lote == '2':\n",
    "        return preco_promocional + 10\n",
    "    \n",
    "    else:\n",
    "        return preco_promocional + 15\n",
    "    \n",
    "print(\"O Preco da cervejada é: %d\" % calc_preco_cervejada(lote, 10))"
   ]
  },
  {
   "cell_type": "code",
   "execution_count": null,
   "metadata": {},
   "outputs": [],
   "source": [
    "def calc_aprovacao(media, faltas):\n",
    "    if media >= 60 and faltas <= 25:\n",
    "        print(\"Aprovado por nota e falta\")\n",
    "    \n",
    "    elif media >= 60 and faltas > 25:\n",
    "        print(\"Aprovado por nota e reprovado por falta\")\n",
    "    \n",
    "    else:\n",
    "        print(\"Reprovado =(\")\n",
    "        \n",
    "        \n",
    "calc_aprovacao(60, 25)\n",
    "        "
   ]
  },
  {
   "cell_type": "markdown",
   "metadata": {},
   "source": [
    "## Loops"
   ]
  },
  {
   "cell_type": "code",
   "execution_count": null,
   "metadata": {},
   "outputs": [],
   "source": []
  }
 ],
 "metadata": {
  "kernelspec": {
   "display_name": "Python 3",
   "language": "python",
   "name": "python3"
  },
  "language_info": {
   "codemirror_mode": {
    "name": "ipython",
    "version": 3
   },
   "file_extension": ".py",
   "mimetype": "text/x-python",
   "name": "python",
   "nbconvert_exporter": "python",
   "pygments_lexer": "ipython3",
   "version": "3.7.3"
  }
 },
 "nbformat": 4,
 "nbformat_minor": 2
}
