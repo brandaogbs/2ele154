{
 "cells": [
  {
   "cell_type": "raw",
   "metadata": {},
   "source": [
    "\\pagebreak"
   ]
  },
  {
   "cell_type": "markdown",
   "metadata": {},
   "source": [
    "\n",
    "Modelagem, Simulação e Implementação de Sistemas\n",
    "========\n",
    "\n",
    "**Lista I** - Revisão de Transformada de Laplace\n",
    "-------\n",
    "\n",
    "Guilherme Brandão da Silva\n",
    "\n",
    "***"
   ]
  },
  {
   "cell_type": "markdown",
   "metadata": {},
   "source": [
    "<p style=\"page-break-after:always;\"></p>"
   ]
  },
  {
   "cell_type": "code",
   "execution_count": 3,
   "metadata": {},
   "outputs": [
    {
     "name": "stdout",
     "output_type": "stream",
     "text": [
      "Symbolic pkg v2.7.0: Python communication link active, SymPy v1.2.\n"
     ]
    }
   ],
   "source": [
    "% Módulos para os Cálculos de Laplace e Operações Simbólicas\n",
    "pkg load control\n",
    "pkg load symbolic\n",
    "\n",
    "% Variáveis Simbólicas\n",
    "syms s t x(t)\n",
    "\n",
    "% Function para Plotar a Inversa de Laplace (Simbólica)\n",
    "function plot_ilap(f, l)\n",
    "    p = ezplot(f);\n",
    "    axis(l);\n",
    "    set(p,'linewidth', 5, 'color', 'k');\n",
    "end;"
   ]
  },
  {
   "cell_type": "raw",
   "metadata": {},
   "source": [
    "\\pagebreak"
   ]
  },
  {
   "cell_type": "markdown",
   "metadata": {},
   "source": [
    "<div style=\"page-break-after: always;\"></div>\n",
    "\n",
    "### **Exercício 1:** Ache as transformadas de Laplace inversa de: $$F(s) = \\frac{(s+3)}{(s+1)(s+2)}$$"
   ]
  },
  {
   "cell_type": "code",
   "execution_count": 4,
   "metadata": {
    "scrolled": false
   },
   "outputs": [
    {
     "name": "stdout",
     "output_type": "stream",
     "text": [
      "f = (sym)\n",
      "\n",
      "     s + 3    \n",
      "  ────────────\n",
      "   2          \n",
      "  s  + 3⋅s + 2\n",
      "\n",
      "ans = (sym)\n",
      "\n",
      "  ⎛   t    ⎞  -2⋅t\n",
      "  ⎝2⋅ℯ  - 1⎠⋅ℯ    \n",
      "\n"
     ]
    },
    {
     "data": {
      "image/png": "[encoded data removed]",
      "text/plain": [
       "<IPython.core.display.Image object>"
      ]
     },
     "metadata": {},
     "output_type": "display_data"
    }
   ],
   "source": [
    "% Declaração da Função\n",
    "f = (s+3)/(s^2+3*s+2)\n",
    "\n",
    "% Cálculo da Inversa de Laplace\n",
    "ilaplace(f)\n",
    "\n",
    "% Plotando a Resposta da Função no Tempo\n",
    "plot_ilap(f, [-1 6 0 70])"
   ]
  },
  {
   "cell_type": "raw",
   "metadata": {},
   "source": [
    "\\pagebreak"
   ]
  },
  {
   "cell_type": "markdown",
   "metadata": {},
   "source": [
    "### **Exercício 2:** Ache as transformadas de Laplace inversa de: $$G(s) = \\frac{(s^3+5s^2+9s+7)}{(s+1)(s+2)}$$"
   ]
  },
  {
   "cell_type": "code",
   "execution_count": 96,
   "metadata": {},
   "outputs": [
    {
     "name": "stdout",
     "output_type": "stream",
     "text": [
      "F = (sym)\n",
      "\n",
      "            1       2  \n",
      "  s + 2 - ───── + ─────\n",
      "          s + 2   s + 1\n",
      "\n",
      "f = (sym)\n",
      "\n",
      "                                                       -s    -2⋅s\n",
      "  InverseLaplaceTransform(s, s, s, None) + 2⋅δ(s) + 2⋅ℯ   - ℯ    \n",
      "\n"
     ]
    }
   ],
   "source": [
    "% Declaração da Função\n",
    "num = [1 5 9 7];\n",
    "den = conv([1 1], [1 2]);\n",
    "\n",
    "% Cálculo das Franções Parciais\n",
    "[r, p, k] = residue(num, den);\n",
    "\n",
    "% Montagem da Função em Franções Parciais\n",
    "F = 2/(s+1) - 1/(s+2) + 1*s + 2\n",
    "\n",
    "% Cálculo da Inversa de Laplace\n",
    "f = ilaplace(F, s)\n",
    "\n",
    "% Plotando a Resposta da Função no Tempo\n",
    "% plot_ilap(f, [0 6 0 0.4])"
   ]
  },
  {
   "cell_type": "raw",
   "metadata": {},
   "source": [
    "\\pagebreak"
   ]
  },
  {
   "cell_type": "markdown",
   "metadata": {},
   "source": [
    "### **Exercício 3:** Obtenha as expanção em frações parciais e encontre a transformada inversa de Laplace de: $$\\frac{B(s)}{A(s)} = \\frac{2s^3 + 5s^2 + 3s + 6}{s^3 + 6s^2 + 11s + 6} $$"
   ]
  },
  {
   "cell_type": "code",
   "execution_count": 97,
   "metadata": {},
   "outputs": [
    {
     "name": "stdout",
     "output_type": "stream",
     "text": [
      "F = (sym)\n",
      "\n",
      "        6       4       3  \n",
      "  2 - ───── - ───── + ─────\n",
      "      s + 3   s + 2   s + 1\n",
      "\n",
      "f = (sym)\n",
      "\n",
      "              -s      -2⋅s      -3⋅s\n",
      "  2⋅δ(s) + 3⋅ℯ   - 4⋅ℯ     - 6⋅ℯ    \n",
      "\n"
     ]
    },
    {
     "data": {
      "image/png": "[encoded data removed]",
      "text/plain": [
       "<IPython.core.display.Image object>"
      ]
     },
     "metadata": {},
     "output_type": "display_data"
    }
   ],
   "source": [
    "% Declaração da Função\n",
    "num = [2 5 3 6];\n",
    "den = [1 6 11 6];\n",
    "\n",
    "% Cálculo das Franções Parciais\n",
    "[r, p, k] = residue(num, den);\n",
    "\n",
    "% Montagem da Função em Franções Parciais\n",
    "F = 3/(s+1) + -4/(s+2) + -6/(s+3) + 2\n",
    "\n",
    "% Cálculo da Inversa de Laplace\n",
    "f = ilaplace(F, s)\n",
    "\n",
    "% Plotando a Resposta da Função no Tempo\n",
    "plot_ilap(f, [0 6 0 0.5])"
   ]
  },
  {
   "cell_type": "raw",
   "metadata": {},
   "source": [
    "\\pagebreak"
   ]
  },
  {
   "cell_type": "markdown",
   "metadata": {},
   "source": [
    "### **Exercício 4:** Obtenha as expanção em frações parciais e encontre a transformada inversa de Laplace de: $$\\frac{B(s)}{A(s)} = \\frac{2s^2 + 2s + 3}{(s + 1)^3} $$"
   ]
  },
  {
   "cell_type": "code",
   "execution_count": 98,
   "metadata": {
    "scrolled": false
   },
   "outputs": [
    {
     "name": "stdout",
     "output_type": "stream",
     "text": [
      "F = (sym)\n",
      "\n",
      "    2        2          3    \n",
      "  ───── - ──────── + ────────\n",
      "  s + 1          2          3\n",
      "          (s + 1)    (s + 1) \n",
      "\n",
      "f = (sym)\n",
      "\n",
      "  ⎛   2          ⎞  -t\n",
      "  ⎝3⋅t  - 4⋅t + 4⎠⋅ℯ  \n",
      "  ────────────────────\n",
      "           2          \n",
      "\n"
     ]
    },
    {
     "data": {
      "image/png": "[encoded data removed]",
      "text/plain": [
       "<IPython.core.display.Image object>"
      ]
     },
     "metadata": {},
     "output_type": "display_data"
    }
   ],
   "source": [
    "% Declaração da Função\n",
    "num = [2 2 3];\n",
    "den = conv(conv([1 1], [1 1]), [1 1]);\n",
    "\n",
    "% Cálculo das Franções Parciais\n",
    "[r, p, k] = residue(num, den);\n",
    "\n",
    "% Montagem da Função em Franções Parciais\n",
    "F = 2/(s+1) + -2/(s+1)^2 + 3/(s+1)^3\n",
    "\n",
    "% Cálculo da Inversa de Laplace\n",
    "f = ilaplace(F)\n",
    "\n",
    "% Plotando a Resposta da Função no Tempo\n",
    "plot_ilap(f, [-5 6 0 10000])"
   ]
  },
  {
   "cell_type": "raw",
   "metadata": {},
   "source": [
    "\\pagebreak"
   ]
  },
  {
   "cell_type": "markdown",
   "metadata": {},
   "source": [
    "### **Exercício 5:** Obtenha as expanção em frações parciais e encontre a transformada inversa de Laplace de: $$F(s) = \\frac{10 (s+2)(s+4)}{(s+1)(s+3)(s+5)^2} $$"
   ]
  },
  {
   "cell_type": "code",
   "execution_count": 99,
   "metadata": {},
   "outputs": [
    {
     "name": "stdout",
     "output_type": "stream",
     "text": [
      "F = (sym)\n",
      "\n",
      "    2.1875     3.75      1.25   0.9375\n",
      "  - ────── + ──────── + ───── + ──────\n",
      "    s + 5           2   s + 3   s + 1 \n",
      "             (s + 5)                  \n",
      "\n",
      "error: Python exception: ValueError: gamma function pole\n",
      "    occurred at line 2 of the Python code block:\n",
      "    f = inverse_laplace_transform(F, s, t)\n",
      "error: called from\n",
      "    python_cmd at line 179 column 7\n",
      "    ilaplace at line 156 column 5\n"
     ]
    },
    {
     "data": {
      "image/png": "[encoded data removed]",
      "text/plain": [
       "<IPython.core.display.Image object>"
      ]
     },
     "metadata": {},
     "output_type": "display_data"
    }
   ],
   "source": [
    "% Declaração da Função\n",
    "num = conv(10, conv([1 2], [1 4]));\n",
    "den = conv(conv(conv([1 1], [1 3]), [1 5]), [1 5]);\n",
    "\n",
    "% Cálculo das Franções Parciais\n",
    "[r, p, k] = residue(num, den);\n",
    "\n",
    "% Montagem da Função em Franções Parciais\n",
    "F = vpa(0.9375)/(s+1) + vpa(1.25)/(s+3) - vpa(2.1875)/(s+5) + vpa(3.75)/(s+5)^2\n",
    "\n",
    "% Cálculo da Inversa de Laplace\n",
    "f = ilaplace(F)\n",
    "\n",
    "% Plotando a Resposta da Função no Tempo\n",
    "plot_ilap(f, [0 6 0 2])"
   ]
  },
  {
   "cell_type": "raw",
   "metadata": {},
   "source": [
    "\\pagebreak"
   ]
  },
  {
   "cell_type": "markdown",
   "metadata": {},
   "source": [
    "### **Exercício 6:** Resolva a equação diferencial: $$ \\ddot{x} + 2\\dot{x} + 5x = 3,$$ com as seguintes condições: $$\\dot{x}(0) = 0, x(0) = 0$$"
   ]
  },
  {
   "cell_type": "code",
   "execution_count": 100,
   "metadata": {},
   "outputs": [
    {
     "name": "stdout",
     "output_type": "stream",
     "text": [
      "r = (sym)\n",
      "\n",
      "         ⎛  3⋅sin(2⋅t)   3⋅cos(2⋅t)⎞  -t   3\n",
      "  x(t) = ⎜- ────────── - ──────────⎟⋅ℯ   + ─\n",
      "         ⎝      10           5     ⎠       5\n",
      "\n"
     ]
    }
   ],
   "source": [
    "% Equanção Diferencial\n",
    "eqn = diff(x,t, t)  + 2*diff(x, t) + 5*x == 3;\n",
    "\n",
    "% Condições Iniciais\n",
    "cond1 = diff(x)(0) == 0;\n",
    "cond2 = x(0) == 0;\n",
    "\n",
    "% Solução da Equação Diferencial\n",
    "r = dsolve(eqn, cond1, cond2)"
   ]
  },
  {
   "cell_type": "raw",
   "metadata": {},
   "source": [
    "\\pagebreak"
   ]
  },
  {
   "cell_type": "markdown",
   "metadata": {},
   "source": [
    "### **Exercício 7:** Resolva a equação diferencial: $$ 2\\ddot{x} + 7\\dot{x} + 3x = 0,$$ com as seguintes condições: $$\\dot{x}(0) = 0, x(0) = 3$$"
   ]
  },
  {
   "cell_type": "code",
   "execution_count": 101,
   "metadata": {},
   "outputs": [
    {
     "name": "stdout",
     "output_type": "stream",
     "text": [
      "r = (sym)\n",
      "\n",
      "              -3⋅t            \n",
      "           3⋅ℯ           18   \n",
      "  x(t) = - ─────── + ─────────\n",
      "              5           ____\n",
      "                         ╱  t \n",
      "                     5⋅╲╱  ℯ  \n",
      "\n"
     ]
    }
   ],
   "source": [
    "% Equanção Diferencial\n",
    "eqn = 2*diff(x,t, t) + 7*diff(x, t) + 3*x == 0;\n",
    "\n",
    "% Condições Iniciais\n",
    "cond1 = diff(x)(0) == 0;\n",
    "cond2 = x(0) == 3;\n",
    "\n",
    "% Solução da Equação Diferencial\n",
    "r = dsolve(eqn, cond1, cond2)\n"
   ]
  },
  {
   "cell_type": "raw",
   "metadata": {},
   "source": [
    "\\pagebreak"
   ]
  },
  {
   "cell_type": "markdown",
   "metadata": {},
   "source": [
    "### **Exercício 8:** Considere a seguinte função de transferência: $$G(s) = \\frac{6s^2 + 1}{s^3 + 3s^2 + 3s + 1}$$ Obtenha seu diagrama de Polos e Zeros."
   ]
  },
  {
   "cell_type": "code",
   "execution_count": 102,
   "metadata": {},
   "outputs": [
    {
     "name": "stdout",
     "output_type": "stream",
     "text": [
      "\n",
      "Transfer function 'F' from input 'u1' to output ...\n",
      "\n",
      "            6 s^2 + 1      \n",
      " y1:  ---------------------\n",
      "      s^3 + 3 s^2 + 3 s + 1\n",
      "\n",
      "Continuous-time model.\n"
     ]
    },
    {
     "data": {
      "image/png": "[encoded data removed]",
      "text/plain": [
       "<IPython.core.display.Image object>"
      ]
     },
     "metadata": {},
     "output_type": "display_data"
    }
   ],
   "source": [
    "% Montagem da Função de Transferência  \n",
    "num = [6 0 1];\n",
    "den = [1 3 3 1];\n",
    "F = tf(num, den)\n",
    " \n",
    "% Extração dos Polos e Zeros\n",
    "pzmap(F)"
   ]
  },
  {
   "cell_type": "raw",
   "metadata": {},
   "source": [
    "\\pagebreak"
   ]
  },
  {
   "cell_type": "markdown",
   "metadata": {},
   "source": [
    "### **Exercício 9:** Considere a seguinte função de transferência: $$H(s) = \\frac{(s+1)(s+2)}{(s+2i)(s-2i)(s+3)}$$ Obtenha seu diagrama de Polos e Zeros."
   ]
  },
  {
   "cell_type": "code",
   "execution_count": 103,
   "metadata": {},
   "outputs": [
    {
     "name": "stdout",
     "output_type": "stream",
     "text": [
      "\n",
      "Transfer function 'F' from input 'u1' to output ...\n",
      "\n",
      "          s^2 + 3 s + 2     \n",
      " y1:  ----------------------\n",
      "      s^3 + 3 s^2 + 4 s + 12\n",
      "\n",
      "Continuous-time model.\n"
     ]
    },
    {
     "data": {
      "image/png": "[encoded data removed]",
      "text/plain": [
       "<IPython.core.display.Image object>"
      ]
     },
     "metadata": {},
     "output_type": "display_data"
    }
   ],
   "source": [
    "% Montagem da Função de Transferência  \n",
    "num = conv([1 1], [1 2]);\n",
    "den = conv(conv([1 2i], [1 -2i]), [1 3]);\n",
    "F = tf(num, den)\n",
    " \n",
    "% Extração dos Polos e Zeros\n",
    "pzmap(F)"
   ]
  },
  {
   "cell_type": "raw",
   "metadata": {},
   "source": [
    "\\pagebreak"
   ]
  },
  {
   "cell_type": "markdown",
   "metadata": {},
   "source": [
    "### **Exercício 10:** Encontre a equação da corrente de malha, para um circuito RLC Série\n",
    "![](e1.png)"
   ]
  },
  {
   "cell_type": "markdown",
   "metadata": {},
   "source": [
    "1. Aplicando Kirchoff na malhad do circuito, temos:\n",
    "$$\\frac{1}{C}\\int{i(\\tau) d\\tau} + Ri(t) + L \\frac{di(t)}{dt} = 0$$\n",
    "\n",
    "2. Aplicando a transformada de Laplace na Equação Diferencial\n",
    "$$\\frac{1}{C}\\left(\\frac{I(s)}{s} + \\frac{i(0)}{s} + RI(s)+ L(sI(s) - i(0)\\right) = 0$$\n",
    "\n",
    "3. Reorganizanado a Equação, temos que:\n",
    "$$\\left(\\frac{1}{sC} + R + sL\\right)I(s) = Li(0) - \\frac{i(0)}{sC}$$\n",
    "\n",
    "4. Substituindo os valores:\n",
    "\n",
    "$$\\frac{10}{s} = \\left( 5s + 20 + \\frac{20}{s} \\right)I(s)$$\n",
    "\n",
    "$$I(s) = \\frac{10}{5s^2 + 20s + 20}$$"
   ]
  },
  {
   "cell_type": "code",
   "execution_count": 105,
   "metadata": {},
   "outputs": [
    {
     "name": "stdout",
     "output_type": "stream",
     "text": [
      "i = (sym)\n",
      "\n",
      "       -2⋅s             \n",
      "  2⋅s⋅ℯ    ⋅Heaviside(s)\n",
      "\n"
     ]
    },
    {
     "data": {
      "image/png": "[encoded data removed]",
      "text/plain": [
       "<IPython.core.display.Image object>"
      ]
     },
     "metadata": {},
     "output_type": "display_data"
    }
   ],
   "source": [
    "L = 5;\n",
    "C = 0.05;\n",
    "Vc = 10;\n",
    "R = 10;\n",
    "\n",
    "num = 10;\n",
    "den = [5 20 20];\n",
    "\n",
    "% Cálculo das Franções Parciais\n",
    "[r, p, k] = residue(num, den);\n",
    "\n",
    "% Montagem da Função em Franções Parciais\n",
    "I = 2/(s+2)^2;\n",
    "\n",
    "% Cálculo da Inversa de Laplace\n",
    "i = ilaplace(I, s)\n",
    "\n",
    "% Plotando a Resposta da Corrente no Tempo\n",
    "plot_ilap(i, [0 6 0 0.4])\n"
   ]
  },
  {
   "cell_type": "code",
   "execution_count": null,
   "metadata": {},
   "outputs": [],
   "source": []
  }
 ],
 "metadata": {
  "kernelspec": {
   "display_name": "Octave",
   "language": "octave",
   "name": "octave"
  },
  "language_info": {
   "file_extension": ".m",
   "help_links": [
    {
     "text": "GNU Octave",
     "url": "https://www.gnu.org/software/octave/support.html"
    },
    {
     "text": "Octave Kernel",
     "url": "https://github.com/Calysto/octave_kernel"
    },
    {
     "text": "MetaKernel Magics",
     "url": "https://github.com/calysto/metakernel/blob/master/metakernel/magics/README.md"
    }
   ],
   "mimetype": "text/x-octave",
   "name": "octave",
   "version": "4.4.1"
  }
 },
 "nbformat": 4,
 "nbformat_minor": 2
}
