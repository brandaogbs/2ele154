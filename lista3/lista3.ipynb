{
 "cells": [
  {
   "cell_type": "markdown",
   "metadata": {},
   "source": [
    "\n",
    "Modelagem, Simulação e Implementação de Sistemas\n",
    "========\n",
    "\n",
    "**Lista III** - Espaço de Estados\n",
    "-------\n",
    "\n",
    "Guilherme Brandão da Silva\n",
    "\n",
    "***"
   ]
  },
  {
   "cell_type": "code",
   "execution_count": null,
   "metadata": {},
   "outputs": [],
   "source": [
    "% Carrega módulos para operações simbólicas e operações em frequência\n",
    "pkg load control\n",
    "pkg load symbolic\n",
    "pkg load signal"
   ]
  },
  {
   "cell_type": "markdown",
   "metadata": {},
   "source": [
    "### **Exemplo 1:** Converta para Espaço de Estados: $$ \\frac{Y(s)}{U(s)} = \\frac{s}{s^3 + 14s^2+ 56s + 160}$$"
   ]
  },
  {
   "cell_type": "code",
   "execution_count": null,
   "metadata": {},
   "outputs": [],
   "source": [
    "% Montando a Função de Transferência\n",
    "num = [1];\n",
    "den = [1 14 56 160];\n",
    "\n",
    "% Obtém a Representação em Espaço de Estados\n",
    "[A, B, C, D] = tf2ss(num, den)\n",
    "\n",
    "% Obtém Novamente a Função de Transferência\n",
    "[num, den] = ss2tf(A, B, C, D)"
   ]
  },
  {
   "cell_type": "markdown",
   "metadata": {},
   "source": [
    "### **Exemplo 2:** Converta para Função de Transferência: \n",
    "$$\\begin{pmatrix} \\dot{x1}\\\\ \\dot{x2} \\\\ \\dot{x3}\\end{pmatrix}=\\begin{pmatrix} 0&1&0\\\\0&0&1\\\\-5&-25&-5\\end{pmatrix}\\begin{pmatrix} x1\\\\ x2 \\\\ x3\\end{pmatrix}+\\begin{pmatrix} 0\\\\25\\\\-120\\end{pmatrix}u$$\n",
    "\n",
    "$$y =\\begin{pmatrix}1&0&0\\end{pmatrix}\\begin{pmatrix}x1\\\\ x2 \\\\ x3\\end{pmatrix}$$"
   ]
  },
  {
   "cell_type": "code",
   "execution_count": null,
   "metadata": {},
   "outputs": [],
   "source": [
    "% Definindo as Matrizes de Estado\n",
    "A = [0 1 0; 0 0 1;-5 -25 -5];\n",
    "B = [0 25 -20]';\n",
    "C = [1 0 0];\n",
    "D = 0;\n",
    "\n",
    "% Obtém a Função de Transferência\n",
    "[num, den] = ss2tf(A, B, C, D)"
   ]
  },
  {
   "cell_type": "markdown",
   "metadata": {},
   "source": [
    "### **Exemplo 3:** Converta para Função de Transferência:\n",
    "$$\\begin{pmatrix}\\dot{x1}\\\\ \\dot{x2} \\\\ \\dot{x3}\\end{pmatrix}=\\begin{pmatrix}-1&1&0\\\\0&-1&1\\\\0&0&-2\\end{pmatrix}\\begin{pmatrix}x1\\\\ x2 \\\\ x3\\end{pmatrix}+\\begin{pmatrix}0\\\\0\\\\1\\end{pmatrix}u$$\n",
    "\n",
    "$$y =\\begin{pmatrix}1&0&0\\end{pmatrix}\\begin{pmatrix} x1\\\\ x2 \\\\ x3\\end{pmatrix}$$"
   ]
  },
  {
   "cell_type": "code",
   "execution_count": null,
   "metadata": {},
   "outputs": [],
   "source": [
    "% Definindo as Matrizes de Estado\n",
    "A = [-1 1 0; 0 -1 1;0 0 -2];\n",
    "B = [0 0 1]';\n",
    "C = [1 0 0];\n",
    "D = 0;\n",
    "\n",
    "% Obtém a Função de Transferência\n",
    "[num, den] = ss2tf(A, B, C, D)"
   ]
  },
  {
   "cell_type": "markdown",
   "metadata": {},
   "source": [
    "### **Exercício 1:** Determine a Função de Transferência de ambos circuitos: $$G(s) = \\frac{V_o(s)}{V_i(s)}$$ ![](e1.png)"
   ]
  },
  {
   "cell_type": "markdown",
   "metadata": {},
   "source": [
    "#### Circuito (a):\n",
    "1. Fazendo a Equação de Nós no Domínio de Laplace:\n",
    "$$(V_x - V_i) + V_x + \\frac{V_x}{s} = 0$$\n",
    "2. Arranjando a Equação sabendo que $V_x$ = $V_o$:\n",
    "$$ \\frac{V_o(2s + 1)}{s} = V_i$$ \n",
    "assim, segue que:\n",
    "$$ \\Rightarrow \\frac{V_o}{V_i} = \\frac{s}{2s + 1}$$"
   ]
  },
  {
   "cell_type": "code",
   "execution_count": null,
   "metadata": {},
   "outputs": [],
   "source": [
    "# Função de Transferência do Circuito (a)\n",
    "Gs = tf([1], [2 1])\n",
    "\n",
    "# Resposta ao Degrau\n",
    "step(Gs, 100)"
   ]
  },
  {
   "cell_type": "markdown",
   "metadata": {},
   "source": [
    "#### Circuito (b):\n",
    "1. Fazendo a Equação de Malha no Domínio de Laplace:\n",
    "$$-V_i + 1I + \\frac{I}{s} + Is = 0$$\n",
    "2. Arranjando a Equação sabendo que $Is = V_o$:\n",
    "$$\\frac{V_o}{V_i} = \\frac{s^2}{\\left(1 + s + s^2\\right)}$$"
   ]
  },
  {
   "cell_type": "code",
   "execution_count": null,
   "metadata": {},
   "outputs": [],
   "source": [
    "# Função de Transferência do Circuito (bS)\n",
    "Gs = tf([1 0 0], [1 1 1])\n",
    "\n",
    "# Resposta ao Degrau\n",
    "step(Gs, 20)"
   ]
  },
  {
   "cell_type": "markdown",
   "metadata": {},
   "source": [
    "### **Exercício 2:** Determine a Função de Transferência do Diagrama de Blocos: $$T(s) = \\frac{Y(s)}{R(s)}$$ ![](e2.png)"
   ]
  },
  {
   "cell_type": "markdown",
   "metadata": {},
   "source": [
    "1. Se A é o sinal de intersecção e B o sinal da saida do somador, temos:\n",
    "$$Y = Ag_2$$\n",
    "$$A = (R - B)g_1$$\n",
    "$$B = Y - Ag_3$$\n",
    "2. Resolvendo este sistema, temos:\n",
    "$$ \\frac{Y}{R} = \\frac{10}{s^2 + 21s + 10}$$"
   ]
  },
  {
   "cell_type": "code",
   "execution_count": null,
   "metadata": {},
   "outputs": [],
   "source": [
    "syms g1 g2 g3 Y R s\n",
    "\n",
    "% Resolvendo Simbolicamente as Equações\n",
    "g1 = (10)/(s+1);\n",
    "g2 = (1/s);\n",
    "g3 = 2;\n",
    "\n",
    "% Simplificando a Função de Transferência\n",
    "T = (g1*g2)/(g1*(g2+g3)+ 1);\n",
    "T = simplify(T)\n",
    "\n",
    "% Resposta ao Degrau\n",
    "step(tf([10], [1 21 10]))"
   ]
  },
  {
   "cell_type": "markdown",
   "metadata": {},
   "source": [
    "### **Exercício 3a:** Determine G(s) e H(s) para o Diagrama (b) ser equivalente ao (a) : $$T(s) = \\frac{Y(s)}{R(s)}$$ ![](e3a.png) ![](e3b.png)\n",
    "### Então, obtenha a Função de Transferência."
   ]
  },
  {
   "cell_type": "markdown",
   "metadata": {},
   "source": [
    "1. Se $x_2$ é o sinal (-) do primeiro somador e $x_1$ o sinal (+) do segundo somador, temos:\n",
    "$$x_1 = (R - x_2)g_1$$\n",
    "$$x_2 = (x_1 - Y)$$\n",
    "$$Y = x_2 g_2 $$\n",
    "2. Resolvendo o sistema, temos:\n",
    "$$\\frac{Y}{R} = \\frac{g_1g_2}{(1+g_1 - g_1g_2)}$$\n",
    "3. Rearranjando para o formato padrão da realimentação, segue que:\n",
    "    $$ \\frac{Y}{R} = \\frac{(g_2/g_2)}{1 + g_1(1-g_2)}$$\n",
    "4. Portanto:\n",
    "$$G = g_1g_2$$\n",
    "$$H = \\frac{1-g_2}{g_2}$$"
   ]
  },
  {
   "cell_type": "code",
   "execution_count": null,
   "metadata": {},
   "outputs": [],
   "source": [
    "clear all\n",
    "syms x1 x2 Y R g1 g2 s\n",
    "\n",
    "% Resolvendo Simbolicamente as Equações\n",
    "g1 = 1/(s+5);\n",
    "g2 = 1/(s+10);\n",
    "\n",
    "% Obtendo G e H\n",
    "G = g1*g2\n",
    "H = (1-g2)/g2\n",
    "\n",
    "T = simplify(G/(1+G*H))\n",
    "% Resposta ao Degrau\n",
    "step(tf([1], [1 16 59]), 2)"
   ]
  },
  {
   "cell_type": "markdown",
   "metadata": {},
   "source": [
    "### **Exercício 4:** Determine a Função de Transferência de Malha Fechada: ![](e4.png)"
   ]
  },
  {
   "cell_type": "markdown",
   "metadata": {},
   "source": [
    "1. A Função de Malha Fechada é dada por: $$\\frac{Y}{R} = \\frac{CP}{CP + 1}$$"
   ]
  },
  {
   "cell_type": "code",
   "execution_count": null,
   "metadata": {},
   "outputs": [],
   "source": [
    "% Montando as Equações\n",
    "C = tf([1], [1 1]);\n",
    "P = tf([1 2], [1 3]);\n",
    "G = series(C,P);\n",
    "\n",
    "% Realizando a Realimentação\n",
    "T = feedback(G, 1)\n",
    "\n",
    "% Resposta ao Degrau\n",
    "step(T, 8)"
   ]
  },
  {
   "cell_type": "markdown",
   "metadata": {},
   "source": [
    "### **Exercício 5:** Determine a Função de Transferência de Malha Fechada: ![](e5.png)"
   ]
  },
  {
   "cell_type": "code",
   "execution_count": null,
   "metadata": {},
   "outputs": [],
   "source": [
    "% Declaração dos Blocos\n",
    "g1 = tf(4, 1);\n",
    "g2 = tf(1, [1 1]);\n",
    "g3 = tf(1, [1 0 1]);\n",
    "g4 = tf(1, [1 0 0]);\n",
    "g5 = tf([4 2], [1 2 1]);\n",
    "g6 = tf(50, 1);\n",
    "g7 = tf([1 0 2], [1 0 0 14]);\n",
    "\n",
    "% Simplifições Intermediárias\n",
    "h1 = series(g2, g3);\n",
    "h2 = feedback(h1, g5, +1);\n",
    "h3 = feedback(g4, g6);\n",
    "h4 = feedback(series(h2, h3), 1);\n",
    "\n",
    "% Simplificação Final\n",
    "T = series(g1, h4)"
   ]
  },
  {
   "cell_type": "markdown",
   "metadata": {},
   "source": [
    "### **Exercício 6:** Determine a Função de Transferência de Malha Fechada: ![](e6.png)"
   ]
  },
  {
   "cell_type": "code",
   "execution_count": null,
   "metadata": {},
   "outputs": [],
   "source": [
    "% Realizando as simplificações dos Blocos:\n",
    "syms g1 g2 g3 h1 h2 h3 \n",
    "\n",
    "x0 = h2*g2;\n",
    "x1 = h1+g2;\n",
    "x2 = x1*g3;\n",
    "x3 = x2/x0;\n",
    "x4 = x3/(1+x3*h3);\n",
    "x5 = x4/(1+x4*x3);\n",
    "x6 = x5*g1;\n",
    "x7 = x6/(1+x6);\n",
    "\n",
    "% Simplificando a Função de Transferência:\n",
    "x7 = simplify(x7)"
   ]
  },
  {
   "cell_type": "markdown",
   "metadata": {},
   "source": [
    "# **Exercício 7:** Represente em Espaço de Estados o Circuito: ![](e7.png)"
   ]
  },
  {
   "cell_type": "markdown",
   "metadata": {},
   "source": [
    "1. Os estados são os elementos armazenadores de energia, portanto:\n",
    "$$x = \\begin{pmatrix} \n",
    "V_{C1} \\\\ I_L \\\\ V_C2\n",
    "\\end{pmatrix}$$\n",
    "\n",
    "2. O vetor deriviada dos estados:\n",
    "$$\\dot{x} = \\begin{pmatrix} \n",
    "\\dot{V_{C1}} \\\\ \\dot{I_L} \\\\ \\dot{V_C2}\n",
    "\\end{pmatrix}$$\n",
    "\n",
    "3. Extraindo as Equações de Malha, temos:\n",
    "$$-v_i + i_1 + i_3 + i_5 + v_o = 0$$\n",
    "$$ \\Rightarrow -v_i + 3i_1 - 2i_2 - i_4 + v_o = 0 $$\n",
    "$$ \\Rightarrow -v_i + 3i_1 - 2i_2 - i_4 + v_o = 0 $$\n",
    "\n",
    "assim, segue que:\n",
    "$$i_2 = -0,5i_4 + 0,5v_o + v_i - 1,5v_1$$\n",
    "como $i_5 = v_2 - v_c$,\n",
    "$$ i_5 = 0,5v_1 - 0,5v_o -0,5i_4 $$\n",
    "\n",
    "Como a tensão sobre o indutor é, $v_2 = v_o - i_5$:\n",
    "\n",
    "$$v_2 = 1,5v_o - 0,5v_1 + 0,5i_4$$\n",
    "\n",
    "4. Com essas variáveis podemos montar a Equação de Estado\n",
    "$$\\dot{x}=\n",
    "\\begin{pmatrix} \n",
    "-1,5 & -0,5 & 0,5 \\\\ -0,5 & 0,5 & 1,5 \\\\ 0,5 & -0,5 & -0,5\n",
    "\\end{pmatrix}x + \\begin{pmatrix} \n",
    "1 \\\\ 0 \\\\ 0\n",
    "\\end{pmatrix}$$\n",
    "\n",
    "5. Obtendo também a saída do sistema, a tensão $v_o$:\n",
    "$$v_o = \\begin{pmatrix} \n",
    "0 & 0 & 1\n",
    "\\end{pmatrix}x$$"
   ]
  },
  {
   "cell_type": "code",
   "execution_count": null,
   "metadata": {},
   "outputs": [],
   "source": [
    "% Equação em Espaço de Estados\n",
    "A = [-1.5 -0.5 0.5; -0.5 0.5 1.5; 0.5 -0.5 -0.5];\n",
    "B = [1;0;0];\n",
    "C = [0 0 1];\n",
    "D = 0;\n",
    "ss(A,B,C,D) \n",
    "\n",
    "% Função de Transferência\n",
    "[den, num] = ss2tf(A, B, C, D);\n",
    "T = tf(den, num)"
   ]
  },
  {
   "cell_type": "markdown",
   "metadata": {},
   "source": [
    "### **Exercício 8:** Represente em Espaço de Estados as Funções de Transferência:\n",
    "### $$G_1(s) = \\frac{1}{s + 10}$$\n",
    "### $$G_2(s) = \\frac{3s^2 + 10s + 1}{s^2 + 8s + 5}$$\n",
    "### $$G_3(s) = \\frac{s + 14}{s^3 + 3s^2 + 3s + 1}$$"
   ]
  },
  {
   "cell_type": "code",
   "execution_count": null,
   "metadata": {},
   "outputs": [],
   "source": [
    "% Obtendo as Matrizes de Estado para G1\n",
    "g1 = tf(1, [1 10]);\n",
    "[A1, B1, C1, D1] = tf2ss(g1)\n",
    "\n",
    "% Obtendo as Matrizes de Estado para G2\n",
    "g2 = tf([3, 10 1], [1 8 5]);\n",
    "[A2, B2, C2, D2] = tf2ss(g2)\n",
    "\n",
    "% Obtendo as Matrizes de Estado para G3\n",
    "g3 = tf([1 14], [1 3 3 1]);\n",
    "[A3, B3, C3, D3] = tf2ss(g3)"
   ]
  },
  {
   "cell_type": "markdown",
   "metadata": {},
   "source": [
    "### **Exercício 9:** Represente as Funções de Transferência em Espaço de Estados: \n",
    "$$A = \\begin{pmatrix} 0 & 1\\\\ 2 & 4 \\end{pmatrix}, B = \\begin{pmatrix} 1 \\\\ 1 \\end{pmatrix}, C = \\begin{pmatrix} 1 & 0 \\end{pmatrix}$$\n",
    "\n",
    "$$A = \\begin{pmatrix} 1 & 1 & 0\\\\ -2 & 0 & 4 \\\\ 6 & 2 & 10 \\end{pmatrix}, B = \\begin{pmatrix} 0 \\\\ 0 \\\\ 1 \\end{pmatrix}, C = \\begin{pmatrix} 0 & 1 & 0 \\end{pmatrix}$$\n",
    "\n",
    "$$A = \\begin{pmatrix} 0 & 1\\\\ -1 & -2 \\end{pmatrix}, B = \\begin{pmatrix} 0 \\\\ 1 \\end{pmatrix}, C = \\begin{pmatrix} 1 & 1 \\end{pmatrix}$$\n",
    "\n",
    "\n"
   ]
  },
  {
   "cell_type": "code",
   "execution_count": null,
   "metadata": {},
   "outputs": [],
   "source": [
    "% Definindo as Matrizes de Estado\n",
    "A = [0 1; 2 4];\n",
    "B = [1 1]';\n",
    "C = [1 0];\n",
    "D = 0;\n",
    "\n",
    "% Obtém a Função de Transferência\n",
    "[num, den] = ss2tf(A, B, C, D);\n",
    "T = tf(num, den)\n",
    "\n",
    "% Definindo as Matrizes de Estado\n",
    "A = [1 1 0; -2 0 4;6 2 10];\n",
    "B = [0 0 1]';\n",
    "C = [0 1 0];\n",
    "D = 0;\n",
    "\n",
    "% Obtém a Função de Transferência\n",
    "[num, den] = ss2tf(A, B, C, D);\n",
    "T = tf(num, den)\n",
    "\n",
    "% Definindo as Matrizes de Estado\n",
    "A = [0 1; 2 4];\n",
    "B = [0 1]';\n",
    "C = [1 0];\n",
    "D = 0;\n",
    "\n",
    "% Obtém a Função de Transferência\n",
    "[num, den] = ss2tf(A, B, C, D);\n",
    "T = tf(num, den)"
   ]
  },
  {
   "cell_type": "markdown",
   "metadata": {},
   "source": [
    "### **Exercício 10:** Dada a Função de Trasferênica: $$ \\frac{V_o}{V_i} = \\frac{1}{R_1R_2C_1C_2s^2+ (R_1C_1 + R_2C_2 + R_1C_2)s + 1}$$ \n",
    "\n",
    "### Mostre que sua representação em Espaço de Estados é dado por $$\\dot{x} = \n",
    "\\begin{pmatrix} \n",
    "-3,2 & -2\\\\ 1 & 0\n",
    "\\end{pmatrix}x + \\begin{pmatrix} \n",
    "1 \\\\ 0\n",
    "\\end{pmatrix}\n",
    "V_i$$\n",
    "### considerando $R_1 = 1$, $R_2 = 10$, $C_1 = 0.5$ e $C_2 = 0,1$.\n"
   ]
  },
  {
   "cell_type": "code",
   "execution_count": null,
   "metadata": {},
   "outputs": [],
   "source": [
    "r1 = 1;\n",
    "r2 = 10;\n",
    "c1 = 0.5;\n",
    "c2 = 0.1;\n",
    "\n",
    "Vo = tf(1, [r1*r2*c1*c2 (r1*c1 + r2*c2 + r1*c2) 1])\n",
    "\n",
    "% Obtendo as Matrizes de Estado\n",
    "[A, B, C, D] = tf2ss(Vo)"
   ]
  },
  {
   "cell_type": "markdown",
   "metadata": {},
   "source": [
    "### **Exercício 11:** Determine a representação em Espaço de Estados do Diagrama: ![](e11.png)"
   ]
  },
  {
   "cell_type": "code",
   "execution_count": null,
   "metadata": {},
   "outputs": [],
   "source": [
    "# Obtendo a Função de Transferência\n",
    "C = tf(1, [1 2]);\n",
    "P = tf(1, [1 2 4]);\n",
    "G = series(C, P);\n",
    "\n",
    "T = feedback(G)\n",
    "\n",
    "% Obtendo as Matrizes de Estado\n",
    "[A, B, C, D] = tf2ss(T)"
   ]
  },
  {
   "cell_type": "markdown",
   "metadata": {},
   "source": [
    "### **Exercício 12:** Determine a representação em Espaço de Estados do Diagrama: ![](e12.png)"
   ]
  },
  {
   "cell_type": "code",
   "execution_count": null,
   "metadata": {},
   "outputs": [],
   "source": [
    "% Obtendo a Função de Malha Fechada\n",
    "syms z p s\n",
    "\n",
    "g1 = (s + z)/(s + p);\n",
    "g2 = 1/s^2;\n",
    "G = g1*g2;\n",
    "\n",
    "Y = simplify(G/(1 + G));\n",
    "[den, num] = numden(Y)"
   ]
  },
  {
   "cell_type": "code",
   "execution_count": null,
   "metadata": {},
   "outputs": [],
   "source": []
  }
 ],
 "metadata": {
  "kernelspec": {
   "display_name": "Octave",
   "language": "octave",
   "name": "octave"
  },
  "language_info": {
   "file_extension": ".m",
   "help_links": [
    {
     "text": "GNU Octave",
     "url": "https://www.gnu.org/software/octave/support.html"
    },
    {
     "text": "Octave Kernel",
     "url": "https://github.com/Calysto/octave_kernel"
    },
    {
     "text": "MetaKernel Magics",
     "url": "https://github.com/calysto/metakernel/blob/master/metakernel/magics/README.md"
    }
   ],
   "mimetype": "text/x-octave",
   "name": "octave",
   "version": "4.4.1"
  }
 },
 "nbformat": 4,
 "nbformat_minor": 2
}
