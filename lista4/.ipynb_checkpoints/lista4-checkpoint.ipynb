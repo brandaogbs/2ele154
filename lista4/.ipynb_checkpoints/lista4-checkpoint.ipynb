{
 "cells": [
  {
   "cell_type": "markdown",
   "metadata": {},
   "source": [
    "# Modelagem, Simulação e Implementação de Sistemas\n",
    "### Lista IV - Espaço de Estados\n",
    "Guilherme Brandão da Silva\n",
    "\n"
   ]
  },
  {
   "cell_type": "code",
   "execution_count": 3,
   "metadata": {},
   "outputs": [],
   "source": [
    "% Carrega módulos para operações simbólicas e operações em frequência\n",
    "pkg load control\n",
    "pkg load symbolic\n",
    "pkg load signal"
   ]
  },
  {
   "cell_type": "markdown",
   "metadata": {},
   "source": [
    "### Exemplo 1: Encontro a Função de Transferência de:\n",
    "$$A = \\begin{pmatrix} -1 & -1\\\\ 6.5 & 0 \\end{pmatrix}, B = \\begin{pmatrix} 1 & 1\\\\ 1 & 0 \\end{pmatrix}, C = \\begin{pmatrix} 1 & 0 \\\\0 &1 \\end{pmatrix}$$"
   ]
  },
  {
   "cell_type": "code",
   "execution_count": 20,
   "metadata": {},
   "outputs": [
    {
     "name": "stdout",
     "output_type": "stream",
     "text": [
      "\n",
      "Transfer function 'ans' from input 'u1' to output ...\n",
      "\n",
      "          1 s - 1    \n",
      " y1:  ---------------\n",
      "      s^2 + 1 s + 6.5\n",
      "\n",
      "         1 s + 7.5   \n",
      " y2:  ---------------\n",
      "      s^2 + 1 s + 6.5\n",
      "\n",
      "Transfer function 'ans' from input 'u2' to output ...\n",
      "\n",
      "             s       \n",
      " y1:  ---------------\n",
      "      s^2 + 1 s + 6.5\n",
      "\n",
      "            6.5      \n",
      " y2:  ---------------\n",
      "      s^2 + 1 s + 6.5\n",
      "\n",
      "Continuous-time model.\n"
     ]
    }
   ],
   "source": [
    "A = [-1 -1;6.5 0];\n",
    "B = [1 1; 1 0];\n",
    "C = [1 0; 0 1];\n",
    "D = 0;\n",
    "\n",
    "tf(ss(A, B, C, D))"
   ]
  },
  {
   "cell_type": "markdown",
   "metadata": {},
   "source": [
    "### Exemplo 2: Encontro a Função de Transferência de Forma Algébrica:\n",
    "$$A = \\begin{pmatrix} -1 & -1\\\\ 6.5 & 0 \\end{pmatrix}, B = \\begin{pmatrix} 1 & 1\\\\ 1 & 0 \\end{pmatrix}, C = \\begin{pmatrix} 1 & 0 \\\\0 &1 \\end{pmatrix}$$"
   ]
  },
  {
   "cell_type": "code",
   "execution_count": 42,
   "metadata": {},
   "outputs": [
    {
     "name": "stdout",
     "output_type": "stream",
     "text": [
      "warning: passing floating-point values to sym is dangerous, see \"help sym\"\n",
      "warning: called from\n",
      "    double_to_sym_heuristic at line 50 column 7\n",
      "    sym at line 379 column 13\n",
      "    numeric_array_to_sym at line 36 column 14\n",
      "    sym at line 359 column 7\n",
      "    minus at line 57 column 5\n",
      "G = (sym 2×2 matrix)\n",
      "\n",
      "  ⎡      6.5⋅(s - 1)                 6.5⋅s         ⎤\n",
      "  ⎢───────────────────────  ───────────────────────⎥\n",
      "  ⎢6.5⋅s⋅(s + 1.0) + 42.25  6.5⋅s⋅(s + 1.0) + 42.25⎥\n",
      "  ⎢                                                ⎥\n",
      "  ⎢        s + 7.5                    6.5          ⎥\n",
      "  ⎢   ─────────────────        ─────────────────   ⎥\n",
      "  ⎣   s⋅(s + 1.0) + 6.5        s⋅(s + 1.0) + 6.5   ⎦\n",
      "\n"
     ]
    }
   ],
   "source": [
    "syms s\n",
    "I = eye(2);\n",
    "G = simplify(vpa(C*inv(s*I-A)*B))"
   ]
  },
  {
   "cell_type": "markdown",
   "metadata": {},
   "source": [
    "### Exemplo 3: Encontro a Função de Transferência através da Fórmula de Mason: ![](p1.png)"
   ]
  },
  {
   "cell_type": "code",
   "execution_count": 41,
   "metadata": {},
   "outputs": [
    {
     "name": "stdout",
     "output_type": "stream",
     "text": [
      "Gs = (sym)\n",
      "\n",
      "                                            g₁⋅g₂⋅g₃⋅g₄⋅g₅⋅(g₇⋅h₄ - 1)          \n",
      "  ──────────────────────────────────────────────────────────────────────────────\n",
      "  g₂⋅g₃⋅g₄⋅g₅⋅g₆⋅g₇⋅g₈ + g₂⋅g₄⋅g₇⋅h₁⋅h₂⋅h₄ - g₂⋅g₄⋅h₁⋅h₂ - g₂⋅g₇⋅h₁⋅h₄ + g₂⋅h₁ -\n",
      "  \n",
      "                                  \n",
      "  ────────────────────────────────\n",
      "   g₄⋅g₇⋅h₂⋅h₄ + g₄⋅g₇ + g₄⋅h₂ - 1\n",
      "\n"
     ]
    }
   ],
   "source": [
    "% Definindo os sinais simbólicos\n",
    "syms g1 g2 g3 g4 g5 g6 g7 g8 h1 h2 h3 h4\n",
    "\n",
    "% Somatório dos Loops\n",
    "sumL1 = g2*h1 + g4*h2 + g7*g4 + g8*g7*g6*g2*g3*g4*g5;\n",
    "\n",
    "% Somatório dos Loops 2a2\n",
    "sumL2 = g2*h1*g4*h2 + g2*h1*g7*h4 + h2*g4*h4*g7;\n",
    "\n",
    "% Somatório dos Loops 3a3\n",
    "sumL3 = g2*h1*g4*h2*g7*h4;\n",
    "\n",
    "% Ganho Direto\n",
    "t1 = g1*g2*g3*g4*g5;\n",
    "\n",
    "% Cálculo de Delta\n",
    "delta = 1 - sumL1 + sumL2 - sumL3;\n",
    "\n",
    "% Delta sem o Caminho Direto\n",
    "delta1 = 1 - g7*h4;\n",
    "\n",
    "% Obtendo a Função de Transferência através de Mason\n",
    "Gs = simplify((t1*delta1)/(delta))"
   ]
  }
 ],
 "metadata": {
  "kernelspec": {
   "display_name": "Octave",
   "language": "octave",
   "name": "octave"
  },
  "language_info": {
   "file_extension": ".m",
   "help_links": [
    {
     "text": "GNU Octave",
     "url": "https://www.gnu.org/software/octave/support.html"
    },
    {
     "text": "Octave Kernel",
     "url": "https://github.com/Calysto/octave_kernel"
    },
    {
     "text": "MetaKernel Magics",
     "url": "https://github.com/calysto/metakernel/blob/master/metakernel/magics/README.md"
    }
   ],
   "mimetype": "text/x-octave",
   "name": "octave",
   "version": "4.4.1"
  }
 },
 "nbformat": 4,
 "nbformat_minor": 2
}
