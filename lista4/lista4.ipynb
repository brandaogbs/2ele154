{
 "cells": [
  {
   "cell_type": "markdown",
   "metadata": {},
   "source": [
    "# Modelagem, Simulação e Implementação de Sistemas\n",
    "### Lista IV - Espaço de Estados\n",
    "Guilherme Brandão da Silva\n",
    "\n"
   ]
  },
  {
   "cell_type": "code",
   "execution_count": 3,
   "metadata": {},
   "outputs": [],
   "source": [
    "% Carrega módulos para operações simbólicas e operações em frequência\n",
    "pkg load control\n",
    "pkg load symbolic\n",
    "pkg load signal"
   ]
  },
  {
   "cell_type": "markdown",
   "metadata": {},
   "source": [
    "### Exemplo 1: Encontro a Função de Transferência de:\n",
    "$$A = \\begin{pmatrix} -1 & -1\\\\ 6.5 & 0 \\end{pmatrix}, B = \\begin{pmatrix} 1 & 1\\\\ 1 & 0 \\end{pmatrix}, C = \\begin{pmatrix} 1 & 0 \\\\0 &1 \\end{pmatrix}$$"
   ]
  },
  {
   "cell_type": "code",
   "execution_count": 10,
   "metadata": {},
   "outputs": [
    {
     "name": "stdout",
     "output_type": "stream",
     "text": [
      "D = 0\n",
      "\n",
      "Transfer function 'T1' from input 'u1' to output ...\n",
      "\n",
      "          1 s - 1    \n",
      " y1:  ---------------\n",
      "      s^2 + 1 s + 6.5\n",
      "\n",
      "Continuous-time model.\n",
      "\n",
      "Transfer function 'T2' from input 'u1' to output ...\n",
      "\n",
      "         1 s + 7.5   \n",
      " y1:  ---------------\n",
      "      s^2 + 1 s + 6.5\n",
      "\n",
      "Continuous-time model.\n",
      "\n",
      "Transfer function 'T3' from input 'u1' to output ...\n",
      "\n",
      "             s       \n",
      " y1:  ---------------\n",
      "      s^2 + 1 s + 6.5\n",
      "\n",
      "Continuous-time model.\n",
      "\n",
      "Transfer function 'T4' from input 'u1' to output ...\n",
      "\n",
      "            6.5      \n",
      " y1:  ---------------\n",
      "      s^2 + 1 s + 6.5\n",
      "\n",
      "Continuous-time model.\n"
     ]
    }
   ],
   "source": [
    "A = [-1 -1;6.5 0];\n",
    "B = [1 1; 1 0];\n",
    "C = [1 0; 0 1];\n",
    "D = 0\n",
    "\n",
    "[dens, nums] = ss2tf(A, B, C, D, 2);\n",
    "\n",
    "T1 = tf(dens(1), nums(1))\n",
    "T2 = tf(dens(2), nums(2))\n",
    "T3 = tf(dens(3), nums(3))\n",
    "T4 = tf(dens(4), nums(4))\n",
    "\n"
   ]
  },
  {
   "cell_type": "code",
   "execution_count": null,
   "metadata": {},
   "outputs": [],
   "source": []
  }
 ],
 "metadata": {
  "kernelspec": {
   "display_name": "Octave",
   "language": "octave",
   "name": "octave"
  },
  "language_info": {
   "file_extension": ".m",
   "help_links": [
    {
     "text": "GNU Octave",
     "url": "https://www.gnu.org/software/octave/support.html"
    },
    {
     "text": "Octave Kernel",
     "url": "https://github.com/Calysto/octave_kernel"
    },
    {
     "text": "MetaKernel Magics",
     "url": "https://github.com/calysto/metakernel/blob/master/metakernel/magics/README.md"
    }
   ],
   "mimetype": "text/x-octave",
   "name": "octave",
   "version": "4.4.1"
  }
 },
 "nbformat": 4,
 "nbformat_minor": 2
}
