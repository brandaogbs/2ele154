{
 "cells": [
  {
   "cell_type": "markdown",
   "metadata": {},
   "source": [
    "# Modelagem, Simulação e Implementação de Sistemas\n",
    "### Lista IV - Espaço de Estados\n",
    "Guilherme Brandão da Silva\n",
    "\n"
   ]
  },
  {
   "cell_type": "code",
   "execution_count": 2,
   "metadata": {},
   "outputs": [],
   "source": [
    "% Carrega módulos para operações simbólicas e operações em frequência\n",
    "pkg load control\n",
    "pkg load symbolic\n",
    "pkg load signal"
   ]
  },
  {
   "cell_type": "markdown",
   "metadata": {},
   "source": [
    "### Exemplo 1: Encontro a Função de Transferência de:\n",
    "$$A = \\begin{pmatrix} -1 & -1\\\\ 6.5 & 0 \\end{pmatrix}, B = \\begin{pmatrix} 1 & 1\\\\ 1 & 0 \\end{pmatrix}, C = \\begin{pmatrix} 1 & 0 \\\\0 &1 \\end{pmatrix}$$"
   ]
  },
  {
   "cell_type": "code",
   "execution_count": 3,
   "metadata": {},
   "outputs": [
    {
     "name": "stdout",
     "output_type": "stream",
     "text": [
      "\n",
      "Transfer function 'ans' from input 'u1' to output ...\n",
      "\n",
      "          1 s - 1    \n",
      " y1:  ---------------\n",
      "      s^2 + 1 s + 6.5\n",
      "\n",
      "         1 s + 7.5   \n",
      " y2:  ---------------\n",
      "      s^2 + 1 s + 6.5\n",
      "\n",
      "Transfer function 'ans' from input 'u2' to output ...\n",
      "\n",
      "             s       \n",
      " y1:  ---------------\n",
      "      s^2 + 1 s + 6.5\n",
      "\n",
      "            6.5      \n",
      " y2:  ---------------\n",
      "      s^2 + 1 s + 6.5\n",
      "\n",
      "Continuous-time model.\n"
     ]
    }
   ],
   "source": [
    "A = [-1 -1;6.5 0];\n",
    "B = [1 1; 1 0];\n",
    "C = [1 0; 0 1];\n",
    "D = 0;\n",
    "\n",
    "tf(ss(A, B, C, D))"
   ]
  },
  {
   "cell_type": "markdown",
   "metadata": {},
   "source": [
    "### Exemplo 2: Encontro a Função de Transferência de Forma Algébrica:\n",
    "$$A = \\begin{pmatrix} -1 & -1\\\\ 6.5 & 0 \\end{pmatrix}, B = \\begin{pmatrix} 1 & 1\\\\ 1 & 0 \\end{pmatrix}, C = \\begin{pmatrix} 1 & 0 \\\\0 &1 \\end{pmatrix}$$"
   ]
  },
  {
   "cell_type": "code",
   "execution_count": 4,
   "metadata": {},
   "outputs": [
    {
     "name": "stdout",
     "output_type": "stream",
     "text": [
      "Symbolic pkg v2.7.0: Python communication link active, SymPy v1.2.\n",
      "warning: passing floating-point values to sym is dangerous, see \"help sym\"\n",
      "warning: called from\n",
      "    double_to_sym_heuristic at line 50 column 7\n",
      "    sym at line 379 column 13\n",
      "    numeric_array_to_sym at line 36 column 14\n",
      "    sym at line 359 column 7\n",
      "    minus at line 57 column 5\n",
      "G = (sym 2×2 matrix)\n",
      "\n",
      "  ⎡      6.5⋅(s - 1)                 6.5⋅s         ⎤\n",
      "  ⎢───────────────────────  ───────────────────────⎥\n",
      "  ⎢6.5⋅s⋅(s + 1.0) + 42.25  6.5⋅s⋅(s + 1.0) + 42.25⎥\n",
      "  ⎢                                                ⎥\n",
      "  ⎢        s + 7.5                    6.5          ⎥\n",
      "  ⎢   ─────────────────        ─────────────────   ⎥\n",
      "  ⎣   s⋅(s + 1.0) + 6.5        s⋅(s + 1.0) + 6.5   ⎦\n",
      "\n"
     ]
    }
   ],
   "source": [
    "syms s\n",
    "I = eye(2);\n",
    "G = simplify(vpa(C*inv(s*I-A)*B))"
   ]
  },
  {
   "cell_type": "markdown",
   "metadata": {},
   "source": [
    "### Exemplo 3: Encontre a Função de Transferência através da Fórmula de Mason: ![](p1.png)"
   ]
  },
  {
   "cell_type": "code",
   "execution_count": 5,
   "metadata": {},
   "outputs": [
    {
     "name": "stdout",
     "output_type": "stream",
     "text": [
      "Gs = (sym)\n",
      "\n",
      "                                            g₁⋅g₂⋅g₃⋅g₄⋅g₅⋅(g₇⋅h₄ - 1)          \n",
      "  ──────────────────────────────────────────────────────────────────────────────\n",
      "  g₂⋅g₃⋅g₄⋅g₅⋅g₆⋅g₇⋅g₈ + g₂⋅g₄⋅g₇⋅h₁⋅h₂⋅h₄ - g₂⋅g₄⋅h₁⋅h₂ - g₂⋅g₇⋅h₁⋅h₄ + g₂⋅h₁ -\n",
      "  \n",
      "                                  \n",
      "  ────────────────────────────────\n",
      "   g₄⋅g₇⋅h₂⋅h₄ + g₄⋅g₇ + g₄⋅h₂ - 1\n",
      "\n"
     ]
    }
   ],
   "source": [
    "% Definindo os sinais simbólicos\n",
    "syms g1 g2 g3 g4 g5 g6 g7 g8 h1 h2 h3 h4\n",
    "\n",
    "% Somatório dos Loops\n",
    "sumL1 = g2*h1 + g4*h2 + g7*g4 + g8*g7*g6*g2*g3*g4*g5;\n",
    "\n",
    "% Somatório dos Loops 2a2\n",
    "sumL2 = g2*h1*g4*h2 + g2*h1*g7*h4 + h2*g4*h4*g7;\n",
    "\n",
    "% Somatório dos Loops 3a3\n",
    "sumL3 = g2*h1*g4*h2*g7*h4;\n",
    "\n",
    "% Ganho Direto\n",
    "t1 = g1*g2*g3*g4*g5;\n",
    "\n",
    "% Cálculo de Delta\n",
    "delta = 1 - sumL1 + sumL2 - sumL3;\n",
    "\n",
    "% Delta sem o Caminho Direto\n",
    "delta1 = 1 - g7*h4;\n",
    "\n",
    "% Obtendo a Função de Transferência através de Mason\n",
    "Gs = simplify((t1*delta1)/(delta))"
   ]
  },
  {
   "cell_type": "markdown",
   "metadata": {},
   "source": [
    "### Exercício 1: Encontre as Funções de Transferência dos Sistemas:\n",
    "1. $$\\dot{x}=\\begin{pmatrix} 0 & 1 & 0\\\\ 0 & 0 & 1 \\\\ -3 & -2 & -5\\end{pmatrix}x + \\begin{pmatrix} 0 \\\\ 0 \\\\ 10\\end{pmatrix}r$$\n",
    "$$y=\\begin{pmatrix}1&0&0\\end{pmatrix}x$$\n",
    "\n",
    "2. $$\\dot{x}=\\begin{pmatrix} 2 & 3 & -8\\\\ 0 & 5 & 3 \\\\ -3 & -5 & -4\\end{pmatrix}x + \\begin{pmatrix} 1 \\\\ 4 \\\\ 6\\end{pmatrix}r$$\n",
    "$$y=\\begin{pmatrix}1 & 3 & 6\\end{pmatrix}x$$\n",
    "\n",
    "3. $$\\dot{x}=\\begin{pmatrix}3 & -5 & 2\\\\ 1 & -8 & 7 \\\\ -3 & -6 & 2\\end{pmatrix}x + \\begin{pmatrix} 5 \\\\ -3 \\\\ 2 \\end{pmatrix}r$$\n",
    "$$y=\\begin{pmatrix}1 & -4 & 3\\end{pmatrix}x$$"
   ]
  },
  {
   "cell_type": "code",
   "execution_count": 14,
   "metadata": {},
   "outputs": [
    {
     "name": "stdout",
     "output_type": "stream",
     "text": [
      "\n",
      "Transfer function 'ans' from input 'u1' to output ...\n",
      "\n",
      "               10          \n",
      " y1:  ---------------------\n",
      "      s^3 + 5 s^2 + 2 s + 3\n",
      "\n",
      "Continuous-time model.\n",
      "\n",
      "Transfer function 'ans' from input 'u1' to output ...\n",
      "\n",
      "        49 s^2 - 349 s + 452  \n",
      " y1:  ------------------------\n",
      "      s^3 - 3 s^2 - 27 s + 157\n",
      "\n",
      "Continuous-time model.\n",
      "\n",
      "Transfer function 'ans' from input 'u1' to output ...\n",
      "\n",
      "         23 s^2 - 48 s - 7    \n",
      " y1:  ------------------------\n",
      "      s^3 + 3 s^2 + 19 s - 133\n",
      "\n",
      "Continuous-time model.\n"
     ]
    }
   ],
   "source": [
    "% Montagem da Matrizes de Estado\n",
    "A = [0 1 0; 0 0 1; -3 -2 -5];\n",
    "B = [0 0 10]';\n",
    "C = [1 0 0];\n",
    "D = 0;\n",
    "\n",
    "% Cálculo da Função de Transferência\n",
    "tf(ss(A, B, C, D))\n",
    "\n",
    "% Montagem da Matrizes de Estado\n",
    "A = [2 3 -8;0 5 3;-3 -5 -4];\n",
    "B = [1 4 6]';\n",
    "C = [1 3 6];\n",
    "D = 0;\n",
    "\n",
    "% Cálculo da Função de Transferência\n",
    "tf(ss(A, B, C, D))\n",
    "\n",
    "\n",
    "% Montagem da Matrizes de Estado\n",
    "A = [3 -5 2; 1 -8 7; -3 -6 2];\n",
    "B = [5 -3 2]';\n",
    "C = [1 -4 3];\n",
    "D = 0;\n",
    "\n",
    "% Cálculo da Função de Transferência\n",
    "tf(ss(A, B, C, D))"
   ]
  },
  {
   "cell_type": "markdown",
   "metadata": {},
   "source": [
    "### Exercício 2: Encontre as Funções de Transferência dos Sistemas:\n",
    "1. $$\\dot{x}=\\begin{pmatrix} 0 & 1 & 3 & 0\\\\ 0 & 0 & 1 & 0 \\\\ 0 & 0 & 0 & 1\\\\ -7 & -9 & -2 & -3 \\end{pmatrix}x + \\begin{pmatrix} 0 \\\\ 5 \\\\ 8 \\\\ 2\\end{pmatrix}r$$\n",
    "$$y=\\begin{pmatrix}1&3&4&6\\end{pmatrix}x$$\n",
    "\n",
    "2. $$\\dot{x}=\\begin{pmatrix} 3 & 1 & 0 & 4 & -2\\\\ -3 & 5 & -5 & 2 & -1 \\\\ 0 & 1 & -1 & 2 & 8\\\\ -7 & 6 & -3 & -4 & 0 \\\\ -6 & 0 & 4 & -3 & 1\\end{pmatrix}x + \\begin{pmatrix} 2 \\\\ 7 \\\\ 6 \\\\ 5 \\\\ 4\\end{pmatrix}r$$\n",
    "$$y=\\begin{pmatrix}1 & -2 & -9 & 7 & 6\\end{pmatrix}x$$"
   ]
  },
  {
   "cell_type": "code",
   "execution_count": 12,
   "metadata": {},
   "outputs": [
    {
     "name": "stdout",
     "output_type": "stream",
     "text": [
      "\n",
      "Transfer function 'ans' from input 'u1' to output ...\n",
      "\n",
      "      59 s^3 - 164 s^2 - 1621 s - 260\n",
      " y1:  -------------------------------\n",
      "      s^4 + 3 s^3 + 2 s^2 + 30 s + 7 \n",
      "\n",
      "Continuous-time model.\n",
      "\n",
      "Transfer function 'ans' from input 'u1' to output ...\n",
      "\n",
      "      -7 s^4 - 408 s^3 + 1708 s^2 + 1.458e+04 s + 2.767e+04\n",
      " y1:  -----------------------------------------------------\n",
      "         s^5 - 4 s^4 - 32 s^3 + 148 s^2 - 1153 s - 4480    \n",
      "\n",
      "Continuous-time model.\n"
     ]
    }
   ],
   "source": [
    "% Montagem da Matrizes de Estado\n",
    "A = [0 1 3 0; 0 0 1 0; 0 0 0 1; -7 -9 -2 -3];\n",
    "B = [0 5 8 2]';\n",
    "C = [1 3 4 6];\n",
    "D = 0;\n",
    "\n",
    "% Cálculo da Função de Transferência\n",
    "tf(ss(A, B, C, D))\n",
    "\n",
    "% Montagem da Matrizes de Estado\n",
    "A = [3 1 0 4 -2;-3 5 -5 2 -1; 0 1 -1 2 8; -7 6 -3 -4 0; -6 0 4 -3 1];\n",
    "B = [2 7 6 5 4]';\n",
    "C = [1 -2 -9 7 6];\n",
    "D = 0;\n",
    "\n",
    "% Cálculo da Função de Transferência\n",
    "tf(ss(A, B, C, D))"
   ]
  },
  {
   "cell_type": "markdown",
   "metadata": {},
   "source": [
    "### Exercício 3: Encontre as Funções de Transferência dos Sistemas:\n",
    "1. $$\\dot{x}=\\begin{pmatrix} 0 & 1 & 0\\\\ 0 & 0 & 1 \\\\ -2 & -4 & -6\\end{pmatrix}x + \\begin{pmatrix} 0 \\\\ 0 \\\\ 1\\end{pmatrix}r$$\n",
    "$$y=\\begin{pmatrix}0 & 0 & 1\\end{pmatrix}x$$\n",
    "\n",
    "2. $$\\dot{x}=\\begin{pmatrix} 0 & 1 & 0\\\\ 0 & -3 & 1 \\\\ -3 & -4 & -5\\end{pmatrix}x + \\begin{pmatrix} 0 \\\\ 1 \\\\ 1\\end{pmatrix}r$$\n",
    "$$y=\\begin{pmatrix}1 & 2 & 0\\end{pmatrix}x$$\n",
    "\n",
    "3. $$\\dot{x}=\\begin{pmatrix}7 & 1 & 0\\\\ -3 & 2 & -1 \\\\ -1 & 0 & -2\\end{pmatrix}x + \\begin{pmatrix} 1 \\\\ 2 \\\\ 1 \\end{pmatrix}r$$\n",
    "$$y=\\begin{pmatrix}1 & 3 & 2\\end{pmatrix}x$$"
   ]
  },
  {
   "cell_type": "code",
   "execution_count": 16,
   "metadata": {},
   "outputs": [
    {
     "name": "stdout",
     "output_type": "stream",
     "text": [
      "\n",
      "Transfer function 'ans' from input 'u1' to output ...\n",
      "\n",
      "             1 s + 1       \n",
      " y1:  ---------------------\n",
      "      s^3 + 6 s^2 + 4 s + 2\n",
      "\n",
      "Continuous-time model.\n",
      "\n",
      "Transfer function 'ans' from input 'u1' to output ...\n",
      "\n",
      "         2 s^2 + 13 s + 6   \n",
      " y1:  ----------------------\n",
      "      s^3 + 8 s^2 + 19 s + 3\n",
      "\n",
      "Continuous-time model.\n",
      "\n",
      "Transfer function 'ans' from input 'u1' to output ...\n",
      "\n",
      "       9 s^2 - 60 s - 45  \n",
      " y1:  --------------------\n",
      "      s^3 - 7 s^2 - s + 33\n",
      "\n",
      "Continuous-time model.\n"
     ]
    }
   ],
   "source": [
    "% Montagem da Matrizes de Estado\n",
    "A = [0 1 0; 0 0 1; -2 -4 -6];\n",
    "B = [0 0 1]';\n",
    "C = [1 1 0];\n",
    "D = 0;\n",
    "\n",
    "% Cálculo da Função de Transferência\n",
    "tf(ss(A, B, C, D))\n",
    "\n",
    "% Montagem da Matrizes de Estado\n",
    "A = [0 1 0; 0 -3 1; -3 -4 -5];\n",
    "B = [0 1 1]';\n",
    "C = [1 2 0];\n",
    "D = 0;\n",
    "\n",
    "% Cálculo da Função de Transferência\n",
    "tf(ss(A, B, C, D))\n",
    "\n",
    "% Montagem da Matrizes de Estado\n",
    "A = [7 1 0; -3 2 -1; -1 0 -2];\n",
    "B = [1 2 1]';\n",
    "C = [1 3 2];\n",
    "D = 0;\n",
    "\n",
    "% Cálculo da Função de Transferência\n",
    "tf(ss(A, B, C, D))"
   ]
  },
  {
   "cell_type": "markdown",
   "metadata": {},
   "source": [
    "### Exercício 4: Encontre a Função de Transferência através da Fórmula de Mason: ![](e4.png)"
   ]
  },
  {
   "cell_type": "code",
   "execution_count": 18,
   "metadata": {},
   "outputs": [
    {
     "name": "stdout",
     "output_type": "stream",
     "text": [
      "Gs = (sym)\n",
      "\n",
      "  -g₁⋅g₆⋅g₇⋅(g₂⋅g₄ + g₂⋅g₅ + g₃⋅g₄ + g₃⋅g₅) \n",
      "  ──────────────────────────────────────────\n",
      "      g₂⋅g₄⋅g₆⋅g₇⋅h₃ + g₆⋅h₁ + g₇⋅h₂ - 1    \n",
      "\n"
     ]
    }
   ],
   "source": [
    "% Definindo os sinais simbólicos\n",
    "syms g1 g2 g3 g4 g5 g6 g7 g8 h1 h2\n",
    "\n",
    "% Somatório dos Loops\n",
    "sumL1 = g6*h1 + g7*h2 + g2*g4*g6*g7*h3 ;\n",
    "\n",
    "% Somatório dos Loops 2a2\n",
    "sumL2 = g6*h1*g7*h2;\n",
    "\n",
    "% Ganhos de Caminho Direto\n",
    "t1 = g1*g2*g4*g6*g7;\n",
    "\n",
    "t2 = g1*g3*g4*g6*g7;\n",
    "t3 = g1*g2*g5*g6*g7;\n",
    "t4 = g1*g3*g5*g6*g7;\n",
    "\n",
    "% Cálculo de Delta\n",
    "delta = 1 - sumL1;\n",
    "\n",
    "% Delta sem o Caminho Direto\n",
    "delta1 = 1;\n",
    "delta2 = 1;\n",
    "delta3 = 1;\n",
    "delta4 = 1;\n",
    "\n",
    "% Obtendo a Função de Transferência através de Mason\n",
    "Gs = simplify((t1*delta1 + t2*delta2 + t3*delta3 + t4*delta4)/(delta))"
   ]
  },
  {
   "cell_type": "markdown",
   "metadata": {},
   "source": [
    "### **Exercício 5:** Represente em Espaços de Estado e Desenhe os Diagrama de Fluxo de Sinal da Funções de Transferência: \n",
    "1. $$G(s)=\\frac{s + 3}{s^2 + 2s + 7}$$\n",
    "\n",
    "2. $$G(s)=\\frac{s^2 + 3s + 6}{s^3 + 5s^2 + 2s + 1}$$\n",
    "\n",
    "3. $$G(s)=\\frac{s^3 + 2s^2 + 7s + 1}{s^4 + 3s^3 + 5s^2 + 6s + 4}$$"
   ]
  },
  {
   "cell_type": "code",
   "execution_count": 22,
   "metadata": {},
   "outputs": [
    {
     "name": "stdout",
     "output_type": "stream",
     "text": [
      "A =\n",
      "\n",
      "   1.6653e-15   7.0000e+00\n",
      "  -1.0000e+00  -2.0000e+00\n",
      "\n",
      "B =\n",
      "\n",
      "  -3.0000\n",
      "   1.0000\n",
      "\n",
      "C =\n",
      "\n",
      "   0   1\n",
      "\n",
      "D = 0\n",
      "A =\n",
      "\n",
      "   0.00000   0.00000   1.00000\n",
      "  -1.00000  -0.00000  -2.00000\n",
      "   0.00000   1.00000  -5.00000\n",
      "\n",
      "B =\n",
      "\n",
      "  -6.0000\n",
      "   3.0000\n",
      "   1.0000\n",
      "\n",
      "C =\n",
      "\n",
      "   0.00000   0.00000   1.00000\n",
      "\n",
      "D = 0\n",
      "A =\n",
      "\n",
      "    0.00000   -0.00000    0.00000    0.40000\n",
      "    1.00000    0.00000    0.00000    0.60000\n",
      "    0.00000   -1.00000    0.00000   -0.50000\n",
      "    0.00000    0.00000   10.00000   -3.00000\n",
      "\n",
      "B =\n",
      "\n",
      "  -0.10000\n",
      "  -0.70000\n",
      "   0.20000\n",
      "   1.00000\n",
      "\n",
      "C =\n",
      "\n",
      "   0.00000   0.00000   0.00000   1.00000\n",
      "\n",
      "D = 0\n"
     ]
    }
   ],
   "source": [
    "% Montando a Função de Transferência\n",
    "num = [1 3];\n",
    "den = [1 2 7];\n",
    "\n",
    "% Obtém a Representação em Espaço de Estados\n",
    "[A, B, C, D] = tf2ss(num, den)\n",
    "\n",
    "\n",
    "\n",
    "% Montando a Função de Transferência\n",
    "num = [1 3 6];\n",
    "den = [1 5 2 1];\n",
    "\n",
    "% Obtém a Representação em Espaço de Estados\n",
    "[A, B, C, D] = tf2ss(num, den)\n",
    "\n",
    "\n",
    "\n",
    "% Montando a Função de Transferência\n",
    "num = [1 2 7 1];\n",
    "den = [1 3 5 6 4];\n",
    "\n",
    "% Obtém a Representação em Espaço de Estados\n",
    "[A, B, C, D] = tf2ss(num, den)"
   ]
  },
  {
   "cell_type": "markdown",
   "metadata": {},
   "source": [
    "### Exercício 6: Represente em Estado de Espaço: ![](e6.png)"
   ]
  },
  {
   "cell_type": "code",
   "execution_count": 31,
   "metadata": {},
   "outputs": [
    {
     "name": "stdout",
     "output_type": "stream",
     "text": [
      "\n",
      "Transfer function 'G' from input 'u1' to output ...\n",
      "\n",
      "        s - 1  \n",
      " y1:  ---------\n",
      "      s^4 + s^2\n",
      "\n",
      "Continuous-time model.\n",
      "\n",
      "Transfer function 'F' from input 'u1' to output ...\n",
      "\n",
      "            s - 1      \n",
      " y1:  -----------------\n",
      "      s^4 + s^2 + s - 1\n",
      "\n",
      "Continuous-time model.\n",
      "A =\n",
      "\n",
      "  -0.00000   0.00000   0.00000  -1.00000\n",
      "   1.00000   0.00000  -0.00000   1.00000\n",
      "   0.00000  -1.00000   0.00000  -1.00000\n",
      "   0.00000   0.00000   1.00000   0.00000\n",
      "\n",
      "B =\n",
      "\n",
      "  -1.00000\n",
      "   1.00000\n",
      "   0.00000\n",
      "   0.00000\n",
      "\n",
      "C =\n",
      "\n",
      "   0   0   0  -1\n",
      "\n",
      "D = 0\n"
     ]
    }
   ],
   "source": [
    "% Obtendo a Função de Transferência:\n",
    "G = tf([1 -1],[1 0 1 0 0])\n",
    "F = feedback(G)\n",
    "\n",
    "% Obtendo as Matrizes de Estado\n",
    "[A, B, C, D] = tf2ss(F)"
   ]
  },
  {
   "cell_type": "code",
   "execution_count": null,
   "metadata": {},
   "outputs": [],
   "source": []
  }
 ],
 "metadata": {
  "kernelspec": {
   "display_name": "Octave",
   "language": "octave",
   "name": "octave"
  },
  "language_info": {
   "file_extension": ".m",
   "help_links": [
    {
     "text": "GNU Octave",
     "url": "https://www.gnu.org/software/octave/support.html"
    },
    {
     "text": "Octave Kernel",
     "url": "https://github.com/Calysto/octave_kernel"
    },
    {
     "text": "MetaKernel Magics",
     "url": "https://github.com/calysto/metakernel/blob/master/metakernel/magics/README.md"
    }
   ],
   "mimetype": "text/x-octave",
   "name": "octave",
   "version": "4.4.1"
  }
 },
 "nbformat": 4,
 "nbformat_minor": 2
}
