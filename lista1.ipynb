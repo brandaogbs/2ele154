{
 "cells": [
  {
   "cell_type": "markdown",
   "metadata": {},
   "source": [
    "># **Modelagem, Simulação e Implementação de Sistemas**\n",
    "\n",
    "\n",
    "> ## **Lista I** - Revisão de Transformada de Laplace\n",
    ">### Guilherme Brandão da Silva \n",
    "\n",
    "***"
   ]
  },
  {
   "cell_type": "code",
   "execution_count": 1,
   "metadata": {},
   "outputs": [
    {
     "name": "stdout",
     "output_type": "stream",
     "text": [
      "Symbolic pkg v2.7.0: Python communication link active, SymPy v1.2.\n"
     ]
    }
   ],
   "source": [
    "% Módulos para os Cálculos de Laplace e Operações Simbólicas\n",
    "pkg load control\n",
    "pkg load symbolic\n",
    "\n",
    "% Variáveis Simbólicas\n",
    "syms s t x(t)"
   ]
  },
  {
   "cell_type": "markdown",
   "metadata": {},
   "source": [
    "## Problemas\n",
    "**Exercício 1:** Ache as transformadas de Laplace inversa de:\n",
    "\n",
    "$$F(s) = \\frac{(s+3)}{(s+1)(s+2)}$$"
   ]
  },
  {
   "cell_type": "code",
   "execution_count": 2,
   "metadata": {},
   "outputs": [
    {
     "name": "stdout",
     "output_type": "stream",
     "text": [
      "f = (sym)\n",
      "\n",
      "     s + 3    \n",
      "  ────────────\n",
      "   2          \n",
      "  s  + 3⋅s + 2\n",
      "\n",
      "ans = (sym)\n",
      "\n",
      "  ⎛   t    ⎞  -2⋅t\n",
      "  ⎝2⋅ℯ  - 1⎠⋅ℯ    \n",
      "\n"
     ]
    }
   ],
   "source": [
    "% Declaração da Função\n",
    "f = (s+3)/(s^2+3*s+2)\n",
    "\n",
    "% Cálculo da Inversa de Laplace\n",
    "ilaplace(f)"
   ]
  },
  {
   "cell_type": "markdown",
   "metadata": {},
   "source": [
    "**Exercício 2:** Ache as transformadas de Laplace inversa de:\n",
    "\n",
    "$$G(s) = \\frac{(s^3+5s^2+9s+7)}{(s+1)(s+2)}$$"
   ]
  },
  {
   "cell_type": "code",
   "execution_count": 3,
   "metadata": {},
   "outputs": [
    {
     "name": "stdout",
     "output_type": "stream",
     "text": [
      "ans = (sym)\n",
      "\n",
      "                                                       -s    -2⋅s\n",
      "  InverseLaplaceTransform(s, s, s, None) + 2⋅δ(s) + 2⋅ℯ   - ℯ    \n",
      "\n"
     ]
    }
   ],
   "source": [
    "% Declaração da Função\n",
    "num = [1 5 9 7];\n",
    "den = conv([1 1], [1 2]);\n",
    "\n",
    "% Cálculo das Franções Parciais\n",
    "[r, p, k] = residue(num, den);\n",
    "\n",
    "% Montagem da Função em Franções Parciais\n",
    "F = r(1)/(s-p(1)) + r(2)/(s-p(2)) + s*k(1) + k(2);\n",
    "\n",
    "% Cálculo da Inversa de Laplace\n",
    "ilaplace(F, s)"
   ]
  },
  {
   "cell_type": "markdown",
   "metadata": {},
   "source": [
    "**Exercício 3:** Obtenha as expanção em frações parciais e encontre a transformada inversa de Laplace de:\n",
    "$$\\frac{B(s)}{A(s)} = \\frac{2s^3 + 5s^2 + 3s + 6}{s^3 + 6s^2 + 11s + 6} $$"
   ]
  },
  {
   "cell_type": "code",
   "execution_count": 4,
   "metadata": {},
   "outputs": [
    {
     "name": "stdout",
     "output_type": "stream",
     "text": [
      "F = (sym)\n",
      "\n",
      "      6       4       3  \n",
      "  - ───── - ───── + ─────\n",
      "    s + 3   s + 2   s + 1\n",
      "\n",
      "f = (sym)\n",
      "\n",
      "  ⎛   2⋅s      s    ⎞  -3⋅s             \n",
      "  ⎝3⋅ℯ    - 4⋅ℯ  - 6⎠⋅ℯ    ⋅Heaviside(s)\n",
      "\n"
     ]
    }
   ],
   "source": [
    "% Declaração da Função\n",
    "num = [2 5 3 6];\n",
    "den = [1 6 11 6];\n",
    "\n",
    "% Cálculo das Franções Parciais\n",
    "[r, p, k] = residue(num, den);\n",
    "\n",
    "% Montagem da Função em Franções Parciais\n",
    "F = 3/(s+1) + -4/(s+2) + -6/(s+3)\n",
    "\n",
    "% Cálculo da Inversa de Laplace\n",
    "f = ilaplace(F, s)"
   ]
  },
  {
   "cell_type": "markdown",
   "metadata": {},
   "source": [
    "**Exercício 4:** Obtenha as expanção em frações parciais e encontre a transformada inversa de Laplace de:\n",
    "$$\\frac{B(s)}{A(s)} = \\frac{2s^2 + 2s + 3}{(s + 1)^3} $$"
   ]
  },
  {
   "cell_type": "code",
   "execution_count": 5,
   "metadata": {
    "scrolled": false
   },
   "outputs": [
    {
     "name": "stdout",
     "output_type": "stream",
     "text": [
      "F = (sym)\n",
      "\n",
      "    2        2          3    \n",
      "  ───── - ──────── + ────────\n",
      "  s + 1          2          3\n",
      "          (s + 1)    (s + 1) \n",
      "\n",
      "f = (sym)\n",
      "\n",
      "  ⎛   2          ⎞  -t\n",
      "  ⎝3⋅t  - 4⋅t + 4⎠⋅ℯ  \n",
      "  ────────────────────\n",
      "           2          \n",
      "\n"
     ]
    }
   ],
   "source": [
    "% Declaração da Função\n",
    "num = [2 2 3];\n",
    "den = conv(conv([1 1], [1 1]), [1 1]);\n",
    "\n",
    "% Cálculo das Franções Parciais\n",
    "[r, p, k] = residue(num, den);\n",
    "\n",
    "% Montagem da Função em Franções Parciais\n",
    "F = 2/(s+1) + -2/(s+1)^2 + 3/(s+1)^3\n",
    "\n",
    "% Cálculo da Inversa de Laplace\n",
    "f = ilaplace(F)"
   ]
  },
  {
   "cell_type": "markdown",
   "metadata": {},
   "source": [
    "**Exercício 5:** Resolva a equação diferencial:\n",
    "$$ \\ddot{x} + 2\\dot{x} + 5x = 3,$$\n",
    "com as seguintes condições:\n",
    "$$\\dot{x}(0) = 0 $$\n",
    "$$x(0) = 0$$"
   ]
  },
  {
   "cell_type": "code",
   "execution_count": 6,
   "metadata": {},
   "outputs": [
    {
     "name": "stdout",
     "output_type": "stream",
     "text": [
      "r = (sym)\n",
      "\n",
      "         ⎛  3⋅sin(2⋅t)   3⋅cos(2⋅t)⎞  -t   3\n",
      "  x(t) = ⎜- ────────── - ──────────⎟⋅ℯ   + ─\n",
      "         ⎝      10           5     ⎠       5\n",
      "\n"
     ]
    }
   ],
   "source": [
    "% Equanção Diferencial\n",
    "eqn = diff(x,t, t)  + 2*diff(x, t) + 5*x == 3;\n",
    "\n",
    "% Condições Iniciais\n",
    "cond1 = diff(x)(0) == 0;\n",
    "cond2 = x(0) == 0;\n",
    "\n",
    "% Solução da Equação Diferencial\n",
    "r = dsolve(eqn, cond1, cond2)"
   ]
  },
  {
   "cell_type": "markdown",
   "metadata": {},
   "source": [
    "**Exercício 6:** Resolva a equação diferencial:\n",
    "$$ 2\\ddot{x} + 7\\dot{x} + 3x = 0,$$\n",
    "com as seguintes condições:\n",
    "$$\\dot{x}(0) = 0 $$\n",
    "$$x(0) = 3$$\n"
   ]
  },
  {
   "cell_type": "code",
   "execution_count": 7,
   "metadata": {},
   "outputs": [
    {
     "name": "stdout",
     "output_type": "stream",
     "text": [
      "r = (sym)\n",
      "\n",
      "              -3⋅t            \n",
      "           3⋅ℯ           18   \n",
      "  x(t) = - ─────── + ─────────\n",
      "              5           ____\n",
      "                         ╱  t \n",
      "                     5⋅╲╱  ℯ  \n",
      "\n"
     ]
    }
   ],
   "source": [
    "% Equanção Diferencial\n",
    "eqn = 2*diff(x,t, t) + 7*diff(x, t) + 3*x == 0;\n",
    "\n",
    "% Condições Iniciais\n",
    "cond1 = diff(x)(0) == 0;\n",
    "cond2 = x(0) == 3;\n",
    "\n",
    "% Solução da Equação Diferencial\n",
    "r = dsolve(eqn, cond1, cond2)\n"
   ]
  },
  {
   "cell_type": "markdown",
   "metadata": {},
   "source": [
    "**Exercício 7:** Considere a seguinte função de transferência:\n",
    "$$G(s) = \\frac{6s^2 + 1}{s^3 + 3s^2 + 3s + 1}$$\n",
    "Obtenha seu diagrama de Polos e Zeros.\n"
   ]
  },
  {
   "cell_type": "code",
   "execution_count": 10,
   "metadata": {},
   "outputs": [
    {
     "name": "stdout",
     "output_type": "stream",
     "text": [
      "\n",
      "Transfer function 'F' from input 'u1' to output ...\n",
      "\n",
      "            6 s^2 + 1      \n",
      " y1:  ---------------------\n",
      "      s^3 + 3 s^2 + 3 s + 1\n",
      "\n",
      "Continuous-time model.\n"
     ]
    },
    {
     "data": {
      "image/png": "[encoded data removed]",
      "text/plain": [
       "<IPython.core.display.Image object>"
      ]
     },
     "metadata": {},
     "output_type": "display_data"
    }
   ],
   "source": [
    "% Montagem da Função de Transferência  \n",
    "num = [6 0 1];\n",
    "den = [1 3 3 1];\n",
    "F = tf(num, den)\n",
    " \n",
    "% Extração dos Polos e Zeros\n",
    "pzmap(F)"
   ]
  },
  {
   "cell_type": "markdown",
   "metadata": {},
   "source": [
    "**Exercício 8:** Considere a seguinte função de transferência:\n",
    "$$H(s) = \\frac{(s+1)(s+2)}{(s+2i)(s-2i)(s+3)}$$\n",
    "Obtenha seu diagrama de Polos e Zeros.\n"
   ]
  },
  {
   "cell_type": "code",
   "execution_count": 9,
   "metadata": {},
   "outputs": [
    {
     "name": "stdout",
     "output_type": "stream",
     "text": [
      "\n",
      "Transfer function 'F' from input 'u1' to output ...\n",
      "\n",
      "          s^2 + 3 s + 2     \n",
      " y1:  ----------------------\n",
      "      s^3 + 3 s^2 + 4 s + 12\n",
      "\n",
      "Continuous-time model.\n"
     ]
    },
    {
     "data": {
      "image/png": "[encoded data removed]",
      "text/plain": [
       "<IPython.core.display.Image object>"
      ]
     },
     "metadata": {},
     "output_type": "display_data"
    }
   ],
   "source": [
    "% Montagem da Função de Transferência  \n",
    "num = conv([1 1], [1 2]);\n",
    "den = conv(conv([1 2i], [1 -2i]), [1 3]);\n",
    "F = tf(num, den)\n",
    " \n",
    "% Extração dos Polos e Zeros\n",
    "pzmap(F)"
   ]
  },
  {
   "cell_type": "code",
   "execution_count": null,
   "metadata": {},
   "outputs": [],
   "source": []
  },
  {
   "cell_type": "code",
   "execution_count": null,
   "metadata": {},
   "outputs": [],
   "source": []
  }
 ],
 "metadata": {
  "kernelspec": {
   "display_name": "Octave",
   "language": "octave",
   "name": "octave"
  },
  "language_info": {
   "file_extension": ".m",
   "help_links": [
    {
     "text": "GNU Octave",
     "url": "https://www.gnu.org/software/octave/support.html"
    },
    {
     "text": "Octave Kernel",
     "url": "https://github.com/Calysto/octave_kernel"
    },
    {
     "text": "MetaKernel Magics",
     "url": "https://github.com/calysto/metakernel/blob/master/metakernel/magics/README.md"
    }
   ],
   "mimetype": "text/x-octave",
   "name": "octave",
   "version": "4.4.1"
  }
 },
 "nbformat": 4,
 "nbformat_minor": 2
}
