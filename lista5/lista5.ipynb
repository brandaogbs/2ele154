{
 "cells": [
  {
   "cell_type": "markdown",
   "metadata": {},
   "source": [
    "# Modelagem, Simulação e Implementação de Sistemas\n",
    "### Lista V - Análise Transitória\n",
    "Guilherme Brandão da Silva\n",
    "\n"
   ]
  },
  {
   "cell_type": "code",
   "execution_count": 1,
   "metadata": {},
   "outputs": [],
   "source": [
    "% Carrega módulos para operações simbólicas e operações em frequência\n",
    "pkg load control\n",
    "pkg load symbolic\n",
    "pkg load signal"
   ]
  },
  {
   "cell_type": "markdown",
   "metadata": {},
   "source": [
    "### Obtenha a Resposta  ao Degrau do Sistemas:\n",
    "$$G(s)=\\frac{25}{s^2 + 4s + 25}$$"
   ]
  },
  {
   "cell_type": "code",
   "execution_count": 4,
   "metadata": {},
   "outputs": [
    {
     "name": "stdout",
     "output_type": "stream",
     "text": [
      "yfinal =  1.0041\n",
      "ysettle =  0.56998\n",
      "settling_ind =  40\n",
      "ans =\n",
      "\n",
      "  scalar structure containing the fields:\n",
      "\n",
      "    RiseTime =  0.30718\n",
      "    SettlingTime =  3\n",
      "    SettlingMin =  0.93563\n",
      "    SettlingMax =  1.2517\n",
      "    Overshoot =  0.24662\n",
      "    Undershoot =  0.068154\n",
      "    Peak =  1.2517\n",
      "    PeakTime =  0.66000\n",
      "\n"
     ]
    },
    {
     "data": {
      "image/png": "[encoded data removed]",
      "text/plain": [
       "<IPython.core.display.Image object>"
      ]
     },
     "metadata": {},
     "output_type": "display_data"
    }
   ],
   "source": [
    "% Definição da Função de Transferência\n",
    "G = tf([25], [1 4 25]);\n",
    "\n",
    "% Resposta ao Degrau\n",
    "step(G)\n",
    "\n",
    "% Informações da Resposta ao Degrau (Necessário o arquivo 'stepinfo.m')\n",
    "stepinfo(G)"
   ]
  },
  {
   "cell_type": "code",
   "execution_count": null,
   "metadata": {},
   "outputs": [],
   "source": []
  }
 ],
 "metadata": {
  "kernelspec": {
   "display_name": "Octave",
   "language": "octave",
   "name": "octave"
  },
  "language_info": {
   "file_extension": ".m",
   "help_links": [
    {
     "text": "GNU Octave",
     "url": "https://www.gnu.org/software/octave/support.html"
    },
    {
     "text": "Octave Kernel",
     "url": "https://github.com/Calysto/octave_kernel"
    },
    {
     "text": "MetaKernel Magics",
     "url": "https://github.com/calysto/metakernel/blob/master/metakernel/magics/README.md"
    }
   ],
   "mimetype": "text/x-octave",
   "name": "octave",
   "version": "4.4.1"
  }
 },
 "nbformat": 4,
 "nbformat_minor": 2
}
