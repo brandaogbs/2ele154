{
 "cells": [
  {
   "cell_type": "markdown",
   "metadata": {},
   "source": [
    "# Modelagem, Simulação e Implementação de Sistemas\n",
    "### Lista V - Análise Transitória\n",
    "Guilherme Brandão da Silva"
   ]
  },
  {
   "cell_type": "code",
   "execution_count": 2,
   "metadata": {},
   "outputs": [],
   "source": [
    "% Carrega módulos para operações simbólicas e operações em frequência\n",
    "pkg load control\n",
    "pkg load symbolic\n",
    "pkg load signal"
   ]
  },
  {
   "cell_type": "code",
   "execution_count": 3,
   "metadata": {},
   "outputs": [],
   "source": [
    "% Function para Plotar a Inversa de Laplace (Simbólica)\n",
    "function plot_ilap(f, l)\n",
    "    p = ezplot(f);\n",
    "    axis(l);\n",
    "    set(p,'linewidth', 1, 'color', 'k');\n",
    "end;"
   ]
  },
  {
   "cell_type": "markdown",
   "metadata": {},
   "source": [
    "### Exercício 1: Realize a análise do seguinte sistema:\n",
    "![](e1.png)"
   ]
  },
  {
   "cell_type": "code",
   "execution_count": 4,
   "metadata": {},
   "outputs": [
    {
     "name": "stdout",
     "output_type": "stream",
     "text": [
      "\n",
      "Transfer function 'Festimado' from input 'u1' to output ...\n",
      "\n",
      "             2       \n",
      " y1:  ---------------\n",
      "      s^2 + 0.7 s + 2\n",
      "\n",
      "Continuous-time model.\n",
      "yfinal =  1.0018\n",
      "ysettle =  0.51799\n",
      "settling_ind =  45\n",
      "ans =\n",
      "\n",
      "  scalar structure containing the fields:\n",
      "\n",
      "    RiseTime =  0.77692\n",
      "    SettlingTime =  20\n",
      "    SettlingMin =  0.80628\n",
      "    SettlingMax =  1.4432\n",
      "    Overshoot =  0.44059\n",
      "    Undershoot =  0.19518\n",
      "    Peak =  1.4432\n",
      "    PeakTime =  2.4000\n",
      "\n",
      "\n",
      "Transfer function 'F' from input 'u1' to output ...\n",
      "\n",
      "             5 s + 5       \n",
      " y1:  ---------------------\n",
      "      s^3 + 4 s^2 + 5 s + 7\n",
      "\n",
      "Continuous-time model.\n",
      "yfinal =  0.71462\n",
      "ysettle =  0.017251\n",
      "settling_ind =  92\n",
      "ans =\n",
      "\n",
      "  scalar structure containing the fields:\n",
      "\n",
      "    RiseTime =  0.68287\n",
      "    SettlingTime =  20\n",
      "    SettlingMin =  0.51327\n",
      "    SettlingMax =  1.2443\n",
      "    Overshoot =  0.74125\n",
      "    Undershoot =  0.28176\n",
      "    Peak =  1.2443\n",
      "    PeakTime =  1.6162\n",
      "\n"
     ]
    },
    {
     "data": {
      "image/png": "[encoded data removed]",
      "text/plain": [
       "<IPython.core.display.Image object>"
      ]
     },
     "metadata": {},
     "output_type": "display_data"
    }
   ],
   "source": [
    "% Estimando os Parâmetros:\n",
    "Festimado = tf(2, [1 0.7 2])\n",
    "\n",
    "% Resposta ao Degrau\n",
    "step(Festimado, 'r')\n",
    "stepinfo(Festimado)\n",
    "\n",
    "hold on;\n",
    "\n",
    "% Montnado a Função de Transferência Exata\n",
    "G1 = 5;\n",
    "G2 = tf(1,[1 2]);\n",
    "G3 = tf(1, [1 1]);\n",
    "H1 = tf(1,[1 1]);\n",
    "\n",
    "F = feedback(G1*G2*G3, H1)\n",
    "\n",
    "% Resposta ao Degrau\n",
    "step(F)\n",
    "stepinfo(F)"
   ]
  },
  {
   "cell_type": "markdown",
   "metadata": {},
   "source": [
    "### Exercício 2: Realize a análise do seguinte sistema:\n",
    "![](e2.png)"
   ]
  },
  {
   "cell_type": "code",
   "execution_count": 11,
   "metadata": {},
   "outputs": [
    {
     "name": "stdout",
     "output_type": "stream",
     "text": [
      "\n",
      "Transfer function 'F1' from input 'u1' to output ...\n",
      "\n",
      "                   1e-06              \n",
      " y1:  --------------------------------\n",
      "      0.0018 s^2 + 0.02207 s + 0.02306\n",
      "\n",
      "Continuous-time model.\n",
      "\n",
      "Transfer function 'F2' from input 'u1' to output ...\n",
      "\n",
      "                          1e-06                    \n",
      " y1:  ---------------------------------------------\n",
      "      0.0018 s^3 + 0.02207 s^2 + 0.023 s + 5.65e-05\n",
      "\n",
      "Continuous-time model.\n",
      "yfinal =  0.000043216\n",
      "ysettle =  0.000041920\n",
      "settling_ind =  1\n",
      "ans =\n",
      "\n",
      "  scalar structure containing the fields:\n",
      "\n",
      "    RiseTime =  1.9389\n",
      "    SettlingTime =  5\n",
      "    SettlingMin =  0.000039040\n",
      "    SettlingMax =  0.000043216\n",
      "    Overshoot = 0\n",
      "    Undershoot = 0\n",
      "    Peak =  0.000043216\n",
      "    PeakTime =  5\n",
      "\n",
      "yfinal =  0.017688\n",
      "ysettle =  0.017157\n",
      "settling_ind =  1\n",
      "ans =\n",
      "\n",
      "  scalar structure containing the fields:\n",
      "\n",
      "    RiseTime =  890.64\n",
      "    SettlingTime =  3000\n",
      "    SettlingMin =  0.015922\n",
      "    SettlingMax =  0.017688\n",
      "    Overshoot = 0\n",
      "    Undershoot = 0\n",
      "    Peak =  0.017688\n",
      "    PeakTime =  3000\n",
      "\n"
     ]
    },
    {
     "data": {
      "image/png": "[encoded data removed]",
      "text/plain": [
       "<IPython.core.display.Image object>"
      ]
     },
     "metadata": {},
     "output_type": "display_data"
    }
   ],
   "source": [
    "% Montnado a Função de Transferência Exata\n",
    "G1 = tf(1,[0.18 2]);\n",
    "G2 = 0.000001;\n",
    "G3 = tf(1, [0.01 0.0115]);\n",
    "G4 = tf(1, [1 0]);\n",
    "H1 = 56.5;\n",
    "\n",
    "F1 = feedback(G1*G2*G3, H1)\n",
    "F2 = feedback(G1*G2*G3*G4, H1)\n",
    "\n",
    "% Resposta ao Degrau\n",
    "figure(1)\n",
    "step(F1, 5)\n",
    "stepinfo(F1)\n",
    "hold on;\n",
    "step(F2, 5, 'r')\n",
    "stepinfo(F2)"
   ]
  },
  {
   "cell_type": "code",
   "execution_count": null,
   "metadata": {},
   "outputs": [],
   "source": []
  }
 ],
 "metadata": {
  "kernelspec": {
   "display_name": "Octave",
   "language": "octave",
   "name": "octave"
  },
  "language_info": {
   "file_extension": ".m",
   "help_links": [
    {
     "text": "GNU Octave",
     "url": "https://www.gnu.org/software/octave/support.html"
    },
    {
     "text": "Octave Kernel",
     "url": "https://github.com/Calysto/octave_kernel"
    },
    {
     "text": "MetaKernel Magics",
     "url": "https://github.com/calysto/metakernel/blob/master/metakernel/magics/README.md"
    }
   ],
   "mimetype": "text/x-octave",
   "name": "octave",
   "version": "4.4.1"
  }
 },
 "nbformat": 4,
 "nbformat_minor": 2
}
