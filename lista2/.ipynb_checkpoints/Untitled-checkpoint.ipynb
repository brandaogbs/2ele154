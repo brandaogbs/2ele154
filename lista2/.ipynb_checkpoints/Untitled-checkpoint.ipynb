{
 "cells": [
  {
   "cell_type": "markdown",
   "metadata": {},
   "source": [
    "\\pagebreak"
   ]
  },
  {
   "cell_type": "markdown",
   "metadata": {},
   "source": [
    "\n",
    "Modelagem, Simulação e Implementação de Sistemas\n",
    "========\n",
    "\n",
    "**Lista II** - Revisão de Funções de Transferência\n",
    "-------\n",
    "\n",
    "Guilherme Brandão da Silva\n",
    "\n",
    "***"
   ]
  },
  {
   "cell_type": "code",
   "execution_count": 27,
   "metadata": {},
   "outputs": [],
   "source": [
    "% Carrega módulos para operações simbólicas e operações em frequência\n",
    "pkg load control\n",
    "pkg load symbolic\n",
    "\n",
    "% Variáveis Simbólicas\n",
    "syms s t x(t) a b xi wn A\n",
    "\n",
    "% Function para Plotar a Inversa de Laplace (Simbólica)\n",
    "function plot_ilap(f, l)\n",
    "    p = ezplot(f);\n",
    "    axis(l);\n",
    "    set(p,'linewidth', 5, 'color', 'k');\n",
    "end;"
   ]
  },
  {
   "cell_type": "markdown",
   "metadata": {},
   "source": [
    "\n",
    "\\pagebreak"
   ]
  },
  {
   "cell_type": "markdown",
   "metadata": {},
   "source": [
    "### **Exemplo 1:** Ache as transformadas de Laplace inversa de: $$X(s) = \\frac{as + b + 3a}{s^2 + 3s + 2}$$"
   ]
  },
  {
   "cell_type": "code",
   "execution_count": 54,
   "metadata": {},
   "outputs": [
    {
     "name": "stdout",
     "output_type": "stream",
     "text": [
      "X = (sym)\n",
      "\n",
      "    a + b   2⋅a + b\n",
      "  - ───── + ───────\n",
      "    s + 2    s + 1 \n",
      "\n",
      "x = (sym)\n",
      "\n",
      "  ⎛                    t⎞  -2⋅t\n",
      "  ⎝-a - b + (2⋅a + b)⋅ℯ ⎠⋅ℯ    \n",
      "\n"
     ]
    }
   ],
   "source": [
    "% Resolvendo algebricamente\n",
    "num = a*s + b + 3*a;\n",
    "den = s^2 + 3*s + 2;\n",
    "\n",
    "% Obtendo a inversa de Laplace\n",
    "X = partfrac(num/den)\n",
    "\n",
    "% Obtendo a Inversa de Laplace\n",
    "x = ilaplace(X)"
   ]
  },
  {
   "cell_type": "markdown",
   "metadata": {},
   "source": [
    "\\pagebreak"
   ]
  },
  {
   "cell_type": "markdown",
   "metadata": {},
   "source": [
    "### **Exemplo 2:** Simplifique o Digrama de Blocos e Obtenha a Função de Transferência da Figura:\n",
    "![](e1.png)"
   ]
  },
  {
   "cell_type": "code",
   "execution_count": 44,
   "metadata": {},
   "outputs": [
    {
     "name": "stdout",
     "output_type": "stream",
     "text": [
      "x3 = (sym)\n",
      "\n",
      "                g₁⋅g₂⋅g₃             \n",
      "  ───────────────────────────────────\n",
      "  -g₂⋅g₃⋅h₁ + g₂⋅g₃⋅h₂ + g₂⋅g₃⋅h₃ - 1\n",
      "\n"
     ]
    }
   ],
   "source": [
    "syms g1 g2 g3 h1 h2 h3 x1 x2 x3\n",
    "\n",
    "x1 = g2*g3/(g2*g3*h1 + 1);\n",
    "x2 = x1 /(x1*h2 -1);\n",
    "x3 = g1*x2 / (x2*h3 +1);\n",
    "\n",
    "x3 = simplify(x3)"
   ]
  },
  {
   "cell_type": "markdown",
   "metadata": {},
   "source": [
    "\\pagebreak"
   ]
  },
  {
   "cell_type": "markdown",
   "metadata": {},
   "source": [
    "### **Exemplo 3:** Simplifique o Digrama de Blocos e Obtenha a Função de Transferência da Figura:\n",
    "![](e2.png)"
   ]
  },
  {
   "cell_type": "code",
   "execution_count": 46,
   "metadata": {},
   "outputs": [
    {
     "name": "stdout",
     "output_type": "stream",
     "text": [
      "x3 = (sym)\n",
      "\n",
      "               g₁⋅g₂⋅g₃             \n",
      "  ──────────────────────────────────\n",
      "  g₁⋅g₂⋅g₃ - g₁⋅g₂⋅h₁ + g₂⋅g₃⋅h₂ + 1\n",
      "\n"
     ]
    }
   ],
   "source": [
    "x1 = g2/(h2*g3*g2 + 1);\n",
    "x2 = g1*x1/(g1*x1*h1 - 1);\n",
    "x3 = x2*g3/(x2*g3-1);\n",
    "\n",
    "x3 = simplify(x3)\n"
   ]
  },
  {
   "cell_type": "markdown",
   "metadata": {},
   "source": [
    "\\pagebreak"
   ]
  },
  {
   "cell_type": "markdown",
   "metadata": {},
   "source": [
    "### **Exemplo 4:** Obtenha a Resposta ao Degrau da Função de Transferência: $$T(s)=\\frac{s^3 + 1}{2s^4+s^2+2s}$$"
   ]
  },
  {
   "cell_type": "code",
   "execution_count": 52,
   "metadata": {},
   "outputs": [
    {
     "name": "stdout",
     "output_type": "stream",
     "text": [
      "\n",
      "Transfer function 'T' from input 'u1' to output ...\n",
      "\n",
      "           s^3 + 1     \n",
      " y1:  -----------------\n",
      "      2 s^4 + s^2 + 2 s\n",
      "\n",
      "Continuous-time model.\n"
     ]
    },
    {
     "data": {
      "image/png": "[encoded data removed]",
      "text/plain": [
       "<IPython.core.display.Image object>"
      ]
     },
     "metadata": {},
     "output_type": "display_data"
    }
   ],
   "source": [
    "% Declaração da Função de Transferência\n",
    "T = tf([1 0 0 1], [2 0 1 2 0])\n",
    "\n",
    "% Resposta ao Degrau\n",
    "step(T)"
   ]
  },
  {
   "cell_type": "markdown",
   "metadata": {},
   "source": [
    "\\pagebreak"
   ]
  },
  {
   "cell_type": "markdown",
   "metadata": {},
   "source": [
    "### **Exercício 1:** Determine a Inversa de Laplace de: $$F(s)=\\frac{2s + 12}{s^2+2s+5}$$"
   ]
  },
  {
   "cell_type": "code",
   "execution_count": 5,
   "metadata": {},
   "outputs": [
    {
     "name": "stdout",
     "output_type": "stream",
     "text": [
      "X = (sym)\n",
      "\n",
      "   2⋅(s + 6)  \n",
      "  ────────────\n",
      "   2          \n",
      "  s  + 2⋅s + 5\n",
      "\n",
      "x = (sym)\n",
      "\n",
      "                             -t\n",
      "  (5⋅sin(2⋅t) + 2⋅cos(2⋅t))⋅ℯ  \n",
      "\n"
     ]
    }
   ],
   "source": [
    "% Resolvendo algebricamente\n",
    "num = 2*s + 12;\n",
    "den = s^2 + 2*s + 5;\n",
    "\n",
    "% Obtendo a inversa de Laplace\n",
    "X = partfrac(num/den)\n",
    "\n",
    "% Obtendo a Inversa de Laplace\n",
    "x = ilaplace(X)"
   ]
  },
  {
   "cell_type": "markdown",
   "metadata": {},
   "source": [
    "\\pagebreak"
   ]
  },
  {
   "cell_type": "markdown",
   "metadata": {},
   "source": [
    "### **Exercício 2:** Determine a Inversa de Laplace de: $$F(s)=\\frac{s^2 + 2s + 3}{(s + 1)^3}$$"
   ]
  },
  {
   "cell_type": "code",
   "execution_count": 8,
   "metadata": {},
   "outputs": [
    {
     "name": "stdout",
     "output_type": "stream",
     "text": [
      "X = (sym)\n",
      "\n",
      "    1        2    \n",
      "  ───── + ────────\n",
      "  s + 1          3\n",
      "          (s + 1) \n",
      "\n",
      "x = (sym)\n",
      "\n",
      "  ⎛ 2    ⎞  -t\n",
      "  ⎝t  + 1⎠⋅ℯ  \n",
      "\n"
     ]
    }
   ],
   "source": [
    "% Resolvendo algebricamente\n",
    "num = s^2 + 2*s + 3;\n",
    "den = (s+1)^3;\n",
    "\n",
    "% Obtendo a inversa de Laplace\n",
    "X = partfrac(num/den)\n",
    "\n",
    "% Obtendo a Inversa de Laplace\n",
    "x = ilaplace(X)"
   ]
  },
  {
   "cell_type": "markdown",
   "metadata": {},
   "source": [
    "\\pagebreak"
   ]
  },
  {
   "cell_type": "markdown",
   "metadata": {},
   "source": [
    "### **Exercício 3:** Determine a Inversa de Laplace de: $$F(s)=\\frac{s^4+ 2s^3 + 3s^2+ 4s + 5}{s(s + 1)}$$"
   ]
  },
  {
   "cell_type": "code",
   "execution_count": 11,
   "metadata": {},
   "outputs": [
    {
     "name": "stdout",
     "output_type": "stream",
     "text": [
      "X = (sym)\n",
      "\n",
      "   2             3     5\n",
      "  s  + s + 2 - ───── + ─\n",
      "               s + 1   s\n",
      "\n",
      "Waiting...\n",
      "x = (sym)\n",
      "\n",
      "                                                                  ⎛ 2           \n",
      "  InverseLaplaceTransform(s, s, t, None) + InverseLaplaceTransform⎝s , s, t, Non\n",
      "  \n",
      "   ⎞          -t\n",
      "  e⎠ + 5 - 3⋅ℯ  \n",
      "\n"
     ]
    }
   ],
   "source": [
    "% Resolvendo algebricamente\n",
    "num = s^4 + 2*s^3 + 3*s^2 + 4*s + 5;\n",
    "den = (s+1)*s;\n",
    "\n",
    "% Obtendo a inversa de Laplace\n",
    "X = partfrac(num/den)\n",
    "\n",
    "% Obtendo a Inversa de Laplace\n",
    "x = ilaplace(X)"
   ]
  },
  {
   "cell_type": "markdown",
   "metadata": {},
   "source": [
    "\\pagebreak"
   ]
  },
  {
   "cell_type": "markdown",
   "metadata": {},
   "source": [
    "### **Exercício 4:** Determine a Inversa de Laplace de: $$F(s)=\\frac{3}{s(s^2 + 2s + 5)}$$"
   ]
  },
  {
   "cell_type": "code",
   "execution_count": 12,
   "metadata": {},
   "outputs": [
    {
     "name": "stdout",
     "output_type": "stream",
     "text": [
      "X = (sym)\n",
      "\n",
      "       3⋅(s + 2)        3 \n",
      "  - ──────────────── + ───\n",
      "      ⎛ 2          ⎞   5⋅s\n",
      "    5⋅⎝s  + 2⋅s + 5⎠      \n",
      "\n",
      "x = (sym)\n",
      "\n",
      "   ⎛     t                          ⎞  -t \n",
      "  -⎝- 6⋅ℯ  + 3⋅sin(2⋅t) + 6⋅cos(2⋅t)⎠⋅ℯ   \n",
      "  ────────────────────────────────────────\n",
      "                     10                   \n",
      "\n"
     ]
    }
   ],
   "source": [
    "% Resolvendo algebricamente\n",
    "num = 3;\n",
    "den = s*(s^2 + 2*s + 5);\n",
    "\n",
    "% Obtendo a inversa de Laplace\n",
    "X = partfrac(num/den)\n",
    "\n",
    "% Obtendo a Inversa de Laplace\n",
    "x = ilaplace(X)"
   ]
  },
  {
   "cell_type": "markdown",
   "metadata": {},
   "source": [
    "\\pagebreak"
   ]
  },
  {
   "cell_type": "markdown",
   "metadata": {},
   "source": [
    "### **Exercício 5:** Qual a Solução da Equação Diferencial: $$2\\ddot{x} + 7\\dot{x} + 3x = 0, ~~x(0)=3, \\dot{x}=0$$"
   ]
  },
  {
   "cell_type": "code",
   "execution_count": 20,
   "metadata": {
    "scrolled": true
   },
   "outputs": [
    {
     "name": "stdout",
     "output_type": "stream",
     "text": [
      "r = (sym)\n",
      "\n",
      "              -3⋅t            \n",
      "           3⋅ℯ           18   \n",
      "  x(t) = - ─────── + ─────────\n",
      "              5           ____\n",
      "                         ╱  t \n",
      "                     5⋅╲╱  ℯ  \n",
      "\n"
     ]
    }
   ],
   "source": [
    "% Equanção Diferencial\n",
    "eqn = 2*diff(x,t, t) + 7*diff(x, t) + 3*x == 0;\n",
    "\n",
    "% Condições Iniciais\n",
    "cond1 = diff(x)(0) == 0;\n",
    "cond2 = x(0) == 3;\n",
    "\n",
    "% Solução da Equação Diferencial\n",
    "r = dsolve(eqn, cond1, cond2)"
   ]
  },
  {
   "cell_type": "markdown",
   "metadata": {},
   "source": [
    "\\pagebreak"
   ]
  },
  {
   "cell_type": "markdown",
   "metadata": {},
   "source": [
    "### **Exercício 6:** Qual a Solução da Equação Diferencial: $$\\dot{x} + 2x = 1, ~~x(0)=0$$"
   ]
  },
  {
   "cell_type": "code",
   "execution_count": 21,
   "metadata": {
    "scrolled": true
   },
   "outputs": [
    {
     "name": "stdout",
     "output_type": "stream",
     "text": [
      "r = (sym)\n",
      "\n",
      "              -2⋅t\n",
      "         1   ℯ    \n",
      "  x(t) = ─ - ─────\n",
      "         2     2  \n",
      "\n"
     ]
    }
   ],
   "source": [
    "% Equanção Diferencial\n",
    "eqn = diff(x, t) + 2*x == 1;\n",
    "\n",
    "% Condições Iniciais\n",
    "cond1 = x(0) == 0;\n",
    "\n",
    "% Solução da Equação Diferencial\n",
    "r = dsolve(eqn, cond1)"
   ]
  },
  {
   "cell_type": "markdown",
   "metadata": {},
   "source": [
    "\\pagebreak"
   ]
  },
  {
   "cell_type": "markdown",
   "metadata": {},
   "source": [
    "### **Exercício 7:** Qual a Solução da Equação Diferencial: $$\\ddot{x} + 2\\xi \\omega_n \\dot{x} + \\omega_n^2x = 0, ~~x(0)=a, \\dot{x}=b$$"
   ]
  },
  {
   "cell_type": "code",
   "execution_count": 26,
   "metadata": {},
   "outputs": [
    {
     "name": "stdout",
     "output_type": "stream",
     "text": [
      "warning: worked around octave bug #42735\n",
      "warning: called from\n",
      "    mtimes at line 55 column 5\n",
      "warning: worked around octave bug #42735\n",
      "warning: called from\n",
      "    mtimes at line 55 column 5\n",
      "r = (sym)\n",
      "\n",
      "                                            ⎛        ________⎞                  \n",
      "         ⎛     ⎛       ________⎞    ⎞       ⎜       ╱  2     ⎟   ⎛              \n",
      "         ⎜     ⎜      ╱  2     ⎟    ⎟  t⋅wn⋅⎝-ξ + ╲╱  ξ  - 1 ⎠   ⎜              \n",
      "         ⎝a⋅wn⋅⎝ξ + ╲╱  ξ  - 1 ⎠ + b⎠⋅ℯ                          ⎝-a⋅wn⋅ξ + a⋅wn\n",
      "  x(t) = ───────────────────────────────────────────────────── + ───────────────\n",
      "                                    ________                                    \n",
      "                                   ╱  2                                         \n",
      "                            2⋅wn⋅╲╱  ξ  - 1                                     \n",
      "  \n",
      "                          ⎛        ________⎞\n",
      "      ________    ⎞       ⎜       ╱  2     ⎟\n",
      "     ╱  2         ⎟  t⋅wn⋅⎝-ξ - ╲╱  ξ  - 1 ⎠\n",
      "  ⋅╲╱  ξ  - 1  - b⎠⋅ℯ                       \n",
      "  ──────────────────────────────────────────\n",
      "                ________                    \n",
      "               ╱  2                         \n",
      "        2⋅wn⋅╲╱  ξ  - 1                     \n",
      "\n"
     ]
    }
   ],
   "source": [
    "% Equanção Diferencial\n",
    "eqn = diff(x,t, t) + 2*xi*wn*diff(x, t) + (wn^2)*x == 0;\n",
    "\n",
    "% Condições Iniciais\n",
    "cond1 = diff(x)(0) == b;\n",
    "cond2 = x(0) == a;\n",
    "\n",
    "% Solução da Equação Diferencial\n",
    "r = dsolve(eqn, cond1, cond2)"
   ]
  },
  {
   "cell_type": "markdown",
   "metadata": {},
   "source": [
    "\\pagebreak"
   ]
  },
  {
   "cell_type": "markdown",
   "metadata": {},
   "source": [
    "### **Exercício 8:** Qual a Solução da Equação Diferencial: $$\\dot{x} + ax = A\\sin(\\omega t), ~~x(0)=b$$"
   ]
  },
  {
   "cell_type": "code",
   "execution_count": 29,
   "metadata": {
    "scrolled": false
   },
   "outputs": [
    {
     "name": "stdout",
     "output_type": "stream",
     "text": [
      "warning: worked around octave bug #42735\n",
      "warning: called from\n",
      "    mtimes at line 55 column 5\n",
      "r = (sym)\n",
      "\n",
      "         ⎛  ⎛⎧                                 0                                \n",
      "         ⎜  ⎜⎪                                                                  \n",
      "         ⎜  ⎜⎪   -ⅈ⋅t⋅wn                  -ⅈ⋅t⋅wn                -ⅈ⋅t⋅wn        \n",
      "         ⎜  ⎜⎪t⋅ℯ       ⋅sin(t⋅wn)   ⅈ⋅t⋅ℯ       ⋅cos(t⋅wn)   ⅈ⋅ℯ       ⋅sin(t⋅w\n",
      "         ⎜  ⎜⎪──────────────────── - ────────────────────── + ──────────────────\n",
      "         ⎜  ⎜⎪         2                       2                      2⋅wn      \n",
      "         ⎜  ⎜⎪                                                                  \n",
      "         ⎜  ⎜⎪     ⅈ⋅t⋅wn                  ⅈ⋅t⋅wn              ⅈ⋅t⋅wn           \n",
      "  x(t) = ⎜A⋅⎜⎨  t⋅ℯ      ⋅sin(t⋅wn)   ⅈ⋅t⋅ℯ      ⋅cos(t⋅wn)   ℯ      ⋅cos(t⋅wn) \n",
      "         ⎜  ⎜⎪  ─────────────────── + ───────────────────── - ───────────────── \n",
      "         ⎜  ⎜⎪           2                      2                    2⋅wn       \n",
      "         ⎜  ⎜⎪                                                                  \n",
      "         ⎜  ⎜⎪                   a⋅t                 a⋅t                        \n",
      "         ⎜  ⎜⎪                a⋅ℯ   ⋅sin(t⋅wn)   wn⋅ℯ   ⋅cos(t⋅wn)              \n",
      "         ⎜  ⎜⎪                ──────────────── - ─────────────────              \n",
      "         ⎜  ⎜⎪                     2     2             2     2                  \n",
      "         ⎝  ⎝⎩                    a  + wn             a  + wn                   \n",
      "  \n",
      "      for a = 0 ∧ wn = 0⎞                                                       \n",
      "                        ⎟                                                       \n",
      "                        ⎟                                                       \n",
      "  n)                    ⎟   ⎛⎧     b        for (a = 0 ∨ a = -ⅈ⋅wn) ∧ (a = -ⅈ⋅wn\n",
      "  ──    for a = -ⅈ⋅wn   ⎟   ⎜⎪                                                  \n",
      "                        ⎟   ⎜⎪   A                                              \n",
      "                        ⎟   ⎜⎪  ──── + b                     for a = ⅈ⋅wn       \n",
      "                        ⎟   ⎜⎪  2⋅wn                                            \n",
      "                        ⎟ + ⎜⎨                                                  \n",
      "         for a = ⅈ⋅wn   ⎟   ⎜⎪  A⋅wn                                            \n",
      "                        ⎟   ⎜⎪──────── + b                    otherwise         \n",
      "                        ⎟   ⎜⎪ 2     2                                          \n",
      "                        ⎟   ⎜⎪a  + wn                                           \n",
      "                        ⎟   ⎝⎩                                                  \n",
      "          otherwise     ⎟                                                       \n",
      "                        ⎟                                                       \n",
      "                        ⎠                                                       \n",
      "  \n",
      "             ⎞      \n",
      "             ⎟      \n",
      "             ⎟      \n",
      "   ∨ wn = 0)⎞⎟      \n",
      "            ⎟⎟      \n",
      "            ⎟⎟      \n",
      "            ⎟⎟      \n",
      "            ⎟⎟  -a⋅t\n",
      "            ⎟⎟⋅ℯ    \n",
      "            ⎟⎟      \n",
      "            ⎟⎟      \n",
      "            ⎟⎟      \n",
      "            ⎟⎟      \n",
      "            ⎠⎟      \n",
      "             ⎟      \n",
      "             ⎟      \n",
      "             ⎠      \n",
      "\n"
     ]
    }
   ],
   "source": [
    "% Equanção Diferencial\n",
    "eqn = diff(x, t) + a*x == A*sin(wn*t);\n",
    "\n",
    "% Condições Iniciais\n",
    "cond1 = x(0) == b;\n",
    "\n",
    "% Solução da Equação Diferencial\n",
    "r = dsolve(eqn, cond1)"
   ]
  },
  {
   "cell_type": "markdown",
   "metadata": {},
   "source": [
    "\\pagebreak"
   ]
  },
  {
   "cell_type": "markdown",
   "metadata": {},
   "source": [
    "### **Exercício 9:** Qual a Solução da Equação Diferencial: $$\\ddot{x} + 3\\dot{x} + 6x = 0, ~~x(0)=0, \\dot{x}=3$$"
   ]
  },
  {
   "cell_type": "code",
   "execution_count": 30,
   "metadata": {
    "scrolled": true
   },
   "outputs": [
    {
     "name": "stdout",
     "output_type": "stream",
     "text": [
      "r = (sym)\n",
      "\n",
      "                  ⎛√15⋅t⎞\n",
      "         2⋅√15⋅sin⎜─────⎟\n",
      "                  ⎝  2  ⎠\n",
      "  x(t) = ────────────────\n",
      "                  3/2    \n",
      "              ⎛ t⎞       \n",
      "            5⋅⎝ℯ ⎠       \n",
      "\n"
     ]
    }
   ],
   "source": [
    "% Equanção Diferencial\n",
    "eqn = diff(x,t, t) + 3*diff(x, t) + 6*x == 0;\n",
    "\n",
    "% Condições Iniciais\n",
    "cond1 = diff(x)(0) == 3;\n",
    "cond2 = x(0) == 0;\n",
    "\n",
    "% Solução da Equação Diferencial\n",
    "r = dsolve(eqn, cond1, cond2)"
   ]
  },
  {
   "cell_type": "code",
   "execution_count": null,
   "metadata": {},
   "outputs": [],
   "source": []
  }
 ],
 "metadata": {
  "kernelspec": {
   "display_name": "Octave",
   "language": "octave",
   "name": "octave"
  },
  "language_info": {
   "file_extension": ".m",
   "help_links": [
    {
     "text": "GNU Octave",
     "url": "https://www.gnu.org/software/octave/support.html"
    },
    {
     "text": "Octave Kernel",
     "url": "https://github.com/Calysto/octave_kernel"
    },
    {
     "text": "MetaKernel Magics",
     "url": "https://github.com/calysto/metakernel/blob/master/metakernel/magics/README.md"
    }
   ],
   "mimetype": "text/x-octave",
   "name": "octave",
   "version": "4.4.1"
  }
 },
 "nbformat": 4,
 "nbformat_minor": 2
}
